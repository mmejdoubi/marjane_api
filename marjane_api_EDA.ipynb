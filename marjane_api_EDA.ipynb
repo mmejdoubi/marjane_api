{
 "cells": [
  {
   "cell_type": "code",
   "execution_count": 2,
   "metadata": {},
   "outputs": [],
   "source": [
    "import pandas as pd\n",
    "import numpy as np\n",
    "import plotly.express as pe\n"
   ]
  },
  {
   "cell_type": "code",
   "execution_count": 5,
   "metadata": {},
   "outputs": [
    {
     "name": "stdout",
     "output_type": "stream",
     "text": [
      " Le volume dans le lecteur D s'appelle Data\n",
      " Le num�ro de s�rie du volume est EA5C-967D\n",
      "\n",
      " R�pertoire de d:\\tools\\winpython\\WPy64-3741\\notebooks\\marjane_api\n",
      "\n",
      "19/08/2022  18:13    <DIR>          .\n",
      "19/08/2022  18:13    <DIR>          ..\n",
      "18/08/2022  21:35            22�553 df_orders_MM_07_24_2022.parquet\n",
      "19/08/2022  18:13               973 marjane_api_EDA.ipynb\n",
      "18/08/2022  21:56            30�556 marjane_get_orders.ipynb\n",
      "               3 fichier(s)           54�082 octets\n",
      "               2 R�p(s)  63�045�804�032 octets libres\n"
     ]
    }
   ],
   "source": [
    "%ls"
   ]
  },
  {
   "cell_type": "code",
   "execution_count": 11,
   "metadata": {},
   "outputs": [],
   "source": [
    "## read trx file\n",
    "\n",
    "df = pd.read_parquet(\"./df_orders_MM_07_24_2022.parquet\")"
   ]
  },
  {
   "cell_type": "code",
   "execution_count": 12,
   "metadata": {},
   "outputs": [
    {
     "name": "stdout",
     "output_type": "stream",
     "text": [
      "<class 'pandas.core.frame.DataFrame'>\n",
      "Int64Index: 536 entries, 0 to 3\n",
      "Data columns (total 9 columns):\n",
      " #   Column           Non-Null Count  Dtype         \n",
      "---  ------           --------------  -----         \n",
      " 0   item_qty         536 non-null    int64         \n",
      " 1   item_price       536 non-null    float64       \n",
      " 2   item_name        536 non-null    object        \n",
      " 3   item_id          501 non-null    object        \n",
      " 4   item_category    501 non-null    object        \n",
      " 5   trx_id           536 non-null    object        \n",
      " 6   trx_date         536 non-null    datetime64[ns]\n",
      " 7   trx_total_price  536 non-null    float64       \n",
      " 8   trx_discount     536 non-null    float64       \n",
      "dtypes: datetime64[ns](1), float64(3), int64(1), object(4)\n",
      "memory usage: 41.9+ KB\n"
     ]
    }
   ],
   "source": [
    "## convert data types\n",
    "\n",
    "df['item_qty'] = pd.to_numeric(df['item_qty'])\n",
    "df['item_price'] = pd.to_numeric(df['item_price'])\n",
    "df['trx_total_price'] = pd.to_numeric(df['trx_total_price'])\n",
    "df['trx_discount'] = pd.to_numeric(df['trx_discount'])\n",
    "df['trx_date'] = pd.to_datetime(df['trx_date'])\n",
    "\n",
    "df.info()\n"
   ]
  },
  {
   "cell_type": "code",
   "execution_count": 13,
   "metadata": {},
   "outputs": [
    {
     "data": {
      "text/html": [
       "<div>\n",
       "<style scoped>\n",
       "    .dataframe tbody tr th:only-of-type {\n",
       "        vertical-align: middle;\n",
       "    }\n",
       "\n",
       "    .dataframe tbody tr th {\n",
       "        vertical-align: top;\n",
       "    }\n",
       "\n",
       "    .dataframe thead th {\n",
       "        text-align: right;\n",
       "    }\n",
       "</style>\n",
       "<table border=\"1\" class=\"dataframe\">\n",
       "  <thead>\n",
       "    <tr style=\"text-align: right;\">\n",
       "      <th></th>\n",
       "      <th>item_qty</th>\n",
       "      <th>item_price</th>\n",
       "      <th>item_name</th>\n",
       "      <th>item_id</th>\n",
       "      <th>item_category</th>\n",
       "      <th>trx_id</th>\n",
       "      <th>trx_date</th>\n",
       "      <th>trx_total_price</th>\n",
       "      <th>trx_discount</th>\n",
       "    </tr>\n",
       "  </thead>\n",
       "  <tbody>\n",
       "    <tr>\n",
       "      <th>0</th>\n",
       "      <td>1</td>\n",
       "      <td>19.95</td>\n",
       "      <td>FARFALLE BIOITALIA 500G</td>\n",
       "      <td>350061</td>\n",
       "      <td>PATES FECULENTS</td>\n",
       "      <td>9992207240157184115000400230904355</td>\n",
       "      <td>2022-07-24 21:42:37</td>\n",
       "      <td>855.85</td>\n",
       "      <td>0.0</td>\n",
       "    </tr>\n",
       "    <tr>\n",
       "      <th>1</th>\n",
       "      <td>1</td>\n",
       "      <td>9.38</td>\n",
       "      <td>MELON   SOUIHLA  AU KG</td>\n",
       "      <td>350154</td>\n",
       "      <td>FRUITS</td>\n",
       "      <td>9992207240157184115000400230904355</td>\n",
       "      <td>2022-07-24 21:42:37</td>\n",
       "      <td>855.85</td>\n",
       "      <td>0.0</td>\n",
       "    </tr>\n",
       "    <tr>\n",
       "      <th>2</th>\n",
       "      <td>1</td>\n",
       "      <td>15.98</td>\n",
       "      <td>BANANE AU KG</td>\n",
       "      <td>350154</td>\n",
       "      <td>FRUITS</td>\n",
       "      <td>9992207240157184115000400230904355</td>\n",
       "      <td>2022-07-24 21:42:37</td>\n",
       "      <td>855.85</td>\n",
       "      <td>0.0</td>\n",
       "    </tr>\n",
       "    <tr>\n",
       "      <th>3</th>\n",
       "      <td>1</td>\n",
       "      <td>5.01</td>\n",
       "      <td>CONCOMBRE COURT AU KG(10)</td>\n",
       "      <td>350155</td>\n",
       "      <td>LEGUMES</td>\n",
       "      <td>9992207240157184115000400230904355</td>\n",
       "      <td>2022-07-24 21:42:37</td>\n",
       "      <td>855.85</td>\n",
       "      <td>0.0</td>\n",
       "    </tr>\n",
       "    <tr>\n",
       "      <th>4</th>\n",
       "      <td>1</td>\n",
       "      <td>4.53</td>\n",
       "      <td>BETTERAVE LE KG(8)</td>\n",
       "      <td>350155</td>\n",
       "      <td>LEGUMES</td>\n",
       "      <td>9992207240157184115000400230904355</td>\n",
       "      <td>2022-07-24 21:42:37</td>\n",
       "      <td>855.85</td>\n",
       "      <td>0.0</td>\n",
       "    </tr>\n",
       "  </tbody>\n",
       "</table>\n",
       "</div>"
      ],
      "text/plain": [
       "   item_qty  item_price                  item_name item_id    item_category  \\\n",
       "0         1       19.95    FARFALLE BIOITALIA 500G  350061  PATES FECULENTS   \n",
       "1         1        9.38     MELON   SOUIHLA  AU KG  350154           FRUITS   \n",
       "2         1       15.98               BANANE AU KG  350154           FRUITS   \n",
       "3         1        5.01  CONCOMBRE COURT AU KG(10)  350155          LEGUMES   \n",
       "4         1        4.53         BETTERAVE LE KG(8)  350155          LEGUMES   \n",
       "\n",
       "                               trx_id            trx_date  trx_total_price  \\\n",
       "0  9992207240157184115000400230904355 2022-07-24 21:42:37           855.85   \n",
       "1  9992207240157184115000400230904355 2022-07-24 21:42:37           855.85   \n",
       "2  9992207240157184115000400230904355 2022-07-24 21:42:37           855.85   \n",
       "3  9992207240157184115000400230904355 2022-07-24 21:42:37           855.85   \n",
       "4  9992207240157184115000400230904355 2022-07-24 21:42:37           855.85   \n",
       "\n",
       "   trx_discount  \n",
       "0           0.0  \n",
       "1           0.0  \n",
       "2           0.0  \n",
       "3           0.0  \n",
       "4           0.0  "
      ]
     },
     "execution_count": 13,
     "metadata": {},
     "output_type": "execute_result"
    }
   ],
   "source": [
    "df.head(5)"
   ]
  },
  {
   "cell_type": "code",
   "execution_count": 16,
   "metadata": {},
   "outputs": [
    {
     "data": {
      "text/html": [
       "<div>\n",
       "<style scoped>\n",
       "    .dataframe tbody tr th:only-of-type {\n",
       "        vertical-align: middle;\n",
       "    }\n",
       "\n",
       "    .dataframe tbody tr th {\n",
       "        vertical-align: top;\n",
       "    }\n",
       "\n",
       "    .dataframe thead th {\n",
       "        text-align: right;\n",
       "    }\n",
       "</style>\n",
       "<table border=\"1\" class=\"dataframe\">\n",
       "  <thead>\n",
       "    <tr style=\"text-align: right;\">\n",
       "      <th></th>\n",
       "      <th>item_qty</th>\n",
       "      <th>item_price</th>\n",
       "      <th>trx_total_price</th>\n",
       "      <th>trx_discount</th>\n",
       "    </tr>\n",
       "  </thead>\n",
       "  <tbody>\n",
       "    <tr>\n",
       "      <th>count</th>\n",
       "      <td>536.000000</td>\n",
       "      <td>536.000000</td>\n",
       "      <td>536.000000</td>\n",
       "      <td>536.000000</td>\n",
       "    </tr>\n",
       "    <tr>\n",
       "      <th>mean</th>\n",
       "      <td>1.083955</td>\n",
       "      <td>22.190131</td>\n",
       "      <td>462.159627</td>\n",
       "      <td>0.023507</td>\n",
       "    </tr>\n",
       "    <tr>\n",
       "      <th>std</th>\n",
       "      <td>0.495252</td>\n",
       "      <td>41.750615</td>\n",
       "      <td>264.497099</td>\n",
       "      <td>0.143675</td>\n",
       "    </tr>\n",
       "    <tr>\n",
       "      <th>min</th>\n",
       "      <td>1.000000</td>\n",
       "      <td>0.900000</td>\n",
       "      <td>5.000000</td>\n",
       "      <td>0.000000</td>\n",
       "    </tr>\n",
       "    <tr>\n",
       "      <th>5%</th>\n",
       "      <td>1.000000</td>\n",
       "      <td>1.000000</td>\n",
       "      <td>136.500000</td>\n",
       "      <td>0.000000</td>\n",
       "    </tr>\n",
       "    <tr>\n",
       "      <th>10%</th>\n",
       "      <td>1.000000</td>\n",
       "      <td>2.000000</td>\n",
       "      <td>158.075000</td>\n",
       "      <td>0.000000</td>\n",
       "    </tr>\n",
       "    <tr>\n",
       "      <th>25%</th>\n",
       "      <td>1.000000</td>\n",
       "      <td>5.567500</td>\n",
       "      <td>264.060000</td>\n",
       "      <td>0.000000</td>\n",
       "    </tr>\n",
       "    <tr>\n",
       "      <th>50%</th>\n",
       "      <td>1.000000</td>\n",
       "      <td>14.950000</td>\n",
       "      <td>422.990000</td>\n",
       "      <td>0.000000</td>\n",
       "    </tr>\n",
       "    <tr>\n",
       "      <th>75%</th>\n",
       "      <td>1.000000</td>\n",
       "      <td>26.187500</td>\n",
       "      <td>545.520000</td>\n",
       "      <td>0.000000</td>\n",
       "    </tr>\n",
       "    <tr>\n",
       "      <th>90%</th>\n",
       "      <td>1.000000</td>\n",
       "      <td>39.075000</td>\n",
       "      <td>855.850000</td>\n",
       "      <td>0.000000</td>\n",
       "    </tr>\n",
       "    <tr>\n",
       "      <th>95%</th>\n",
       "      <td>1.000000</td>\n",
       "      <td>53.950000</td>\n",
       "      <td>855.850000</td>\n",
       "      <td>0.000000</td>\n",
       "    </tr>\n",
       "    <tr>\n",
       "      <th>99%</th>\n",
       "      <td>4.000000</td>\n",
       "      <td>169.085000</td>\n",
       "      <td>1170.050000</td>\n",
       "      <td>0.900000</td>\n",
       "    </tr>\n",
       "    <tr>\n",
       "      <th>max</th>\n",
       "      <td>5.000000</td>\n",
       "      <td>699.000000</td>\n",
       "      <td>1170.050000</td>\n",
       "      <td>0.900000</td>\n",
       "    </tr>\n",
       "  </tbody>\n",
       "</table>\n",
       "</div>"
      ],
      "text/plain": [
       "         item_qty  item_price  trx_total_price  trx_discount\n",
       "count  536.000000  536.000000       536.000000    536.000000\n",
       "mean     1.083955   22.190131       462.159627      0.023507\n",
       "std      0.495252   41.750615       264.497099      0.143675\n",
       "min      1.000000    0.900000         5.000000      0.000000\n",
       "5%       1.000000    1.000000       136.500000      0.000000\n",
       "10%      1.000000    2.000000       158.075000      0.000000\n",
       "25%      1.000000    5.567500       264.060000      0.000000\n",
       "50%      1.000000   14.950000       422.990000      0.000000\n",
       "75%      1.000000   26.187500       545.520000      0.000000\n",
       "90%      1.000000   39.075000       855.850000      0.000000\n",
       "95%      1.000000   53.950000       855.850000      0.000000\n",
       "99%      4.000000  169.085000      1170.050000      0.900000\n",
       "max      5.000000  699.000000      1170.050000      0.900000"
      ]
     },
     "execution_count": 16,
     "metadata": {},
     "output_type": "execute_result"
    }
   ],
   "source": [
    "df.describe(percentiles=[0.05,0.1,0.25,0.5,0.75,0.9,0.95,0.99])"
   ]
  },
  {
   "cell_type": "code",
   "execution_count": 18,
   "metadata": {},
   "outputs": [],
   "source": [
    "pd.set_option(\"plotting.backend\", \"plotly\")"
   ]
  },
  {
   "cell_type": "code",
   "execution_count": 19,
   "metadata": {},
   "outputs": [
    {
     "data": {
      "application/vnd.plotly.v1+json": {
       "config": {
        "plotlyServerURL": "https://plot.ly"
       },
       "data": [
        {
         "alignmentgroup": "True",
         "bingroup": "x",
         "hovertemplate": "variable=item_price<br>value=%{x}<br>count=%{y}<extra></extra>",
         "legendgroup": "item_price",
         "marker": {
          "color": "#636efa"
         },
         "name": "item_price",
         "offsetgroup": "item_price",
         "orientation": "v",
         "showlegend": true,
         "type": "histogram",
         "x": [
          19.95,
          9.38,
          15.98,
          5.01,
          4.53,
          7.31,
          17.11,
          28.5,
          5.11,
          39.02,
          31.8,
          14.95,
          17.95,
          18.95,
          30.95,
          30.95,
          36.95,
          25.5,
          32.95,
          15.1,
          9.9,
          19.5,
          5.95,
          5.95,
          15.95,
          5.5,
          2.3,
          4.95,
          4.95,
          28.5,
          35.4,
          25.95,
          18.95,
          13.5,
          13.5,
          20.15,
          16.95,
          24.95,
          19.5,
          14.95,
          36.95,
          22.95,
          17.7,
          17.7,
          21.95,
          67.43,
          49.89,
          19.95,
          35.95,
          51.95,
          3.9,
          3.9,
          9.9,
          1.03,
          5.59,
          8.17,
          3.23,
          7.36,
          5.5,
          18.1,
          9.95,
          9.95,
          10.5,
          10.5,
          11.95,
          39.95,
          13.5,
          15.95,
          2.5,
          2,
          52.85,
          29.95,
          21.95,
          16,
          16,
          65,
          65,
          26.9,
          17.95,
          25.5,
          179.9,
          199,
          7.5,
          12.95,
          22.9,
          7,
          14.95,
          10.95,
          35.9,
          4.9,
          399,
          9.9,
          9.9,
          39.95,
          7.5,
          7.5,
          26.95,
          32.95,
          30.95,
          14.95,
          21.5,
          37.5,
          16.95,
          14.95,
          19.95,
          57.95,
          28.5,
          9,
          9,
          47.89,
          10.5,
          37.62,
          11.5,
          16.68,
          7.7,
          29.95,
          40.9,
          15.95,
          25.95,
          1.95,
          1.95,
          1.95,
          1.95,
          6.9,
          72.65,
          41.35,
          53.95,
          30.5,
          15.5,
          18.2,
          7.15,
          5.95,
          22.95,
          11.95,
          16.95,
          6.95,
          5.95,
          17.95,
          17.95,
          128.6,
          28.25,
          4.95,
          4.95,
          13.5,
          13.65,
          2,
          5,
          42.81,
          25.19,
          19.95,
          17.5,
          53.95,
          24.95,
          44,
          16.95,
          6.95,
          13.5,
          46,
          25.5,
          29.95,
          13.95,
          19.95,
          14.95,
          16.5,
          49.95,
          24.95,
          15.5,
          35.3,
          32.95,
          20.5,
          17.5,
          4.75,
          35,
          2.3,
          53.7,
          17,
          18.95,
          20.15,
          20.95,
          43.95,
          27.95,
          13.65,
          5,
          5,
          4.75,
          5.95,
          65.25,
          73.95,
          4.5,
          1,
          5,
          1,
          39.95,
          13.65,
          2,
          13.65,
          149,
          1,
          4.17,
          4.31,
          28.9,
          11.6,
          11.6,
          35.3,
          17.5,
          11.95,
          11.95,
          9.85,
          11.1,
          8.95,
          27.95,
          699,
          249,
          199,
          3.9,
          17.33,
          35.34,
          23.5,
          23.5,
          119.95,
          10.3,
          10.3,
          28.8,
          17.5,
          4.75,
          4.75,
          14.45,
          6.6,
          19.95,
          10.95,
          18.95,
          1,
          2,
          8.14,
          19.95,
          32.6,
          29.9,
          16.95,
          17.95,
          16.95,
          29.95,
          13.1,
          32.95,
          38.95,
          24.45,
          1,
          1,
          1.95,
          1.95,
          1.95,
          3.5,
          3.5,
          6.9,
          6.9,
          28.9,
          4.95,
          12.15,
          30.25,
          24.4,
          3.2,
          3.2,
          32.73,
          25.65,
          27.93,
          16.95,
          8.5,
          16.1,
          39.95,
          4.5,
          17.95,
          33.95,
          3,
          3,
          3,
          10.95,
          13.5,
          39,
          59,
          139,
          7.9,
          15,
          14.5,
          15.5,
          15.5,
          15.5,
          33.5,
          23.5,
          37,
          2,
          15.18,
          39.13,
          49.95,
          5.95,
          17.1,
          10.5,
          13.9,
          10.4,
          9.3,
          8,
          3.4,
          3.4,
          3.4,
          4.95,
          4.95,
          8,
          13.95,
          9,
          28.73,
          11.66,
          29.64,
          27.95,
          19,
          1,
          1,
          1,
          1,
          4.75,
          6.9,
          6.9,
          4.95,
          4.95,
          26.95,
          17.95,
          13.65,
          46.77,
          36.5,
          16.95,
          6.95,
          16.95,
          11.95,
          4.75,
          10.95,
          13.65,
          79.95,
          10.9,
          10.9,
          1,
          15.23,
          22.49,
          10.5,
          6.95,
          15.5,
          17.95,
          16.95,
          6.95,
          19.9,
          2.5,
          2.5,
          2.5,
          2.5,
          10.5,
          4.8,
          4.8,
          23.95,
          10.75,
          8.95,
          25.95,
          19.95,
          19.95,
          13.95,
          2,
          24.95,
          24.95,
          13,
          32.95,
          14.95,
          3.75,
          3.75,
          17.95,
          14.5,
          16.95,
          10.95,
          5.2,
          5.2,
          33.95,
          22.9,
          4.5,
          3.95,
          10.95,
          15.9,
          2.95,
          22.5,
          35.57,
          108.95,
          37.95,
          39.9,
          6.9,
          31.25,
          4.5,
          6.5,
          14.65,
          1,
          3.9,
          3.9,
          3.9,
          2.8,
          5.5,
          5.5,
          10.7,
          18.7,
          15.95,
          16.95,
          43.95,
          2.8,
          4.95,
          4.95,
          18.2,
          31.95,
          2,
          16.38,
          27.93,
          24.73,
          23.5,
          15.5,
          53.5,
          13.1,
          1,
          1,
          1,
          1,
          1.95,
          1.95,
          1.95,
          4.75,
          4.75,
          8.9,
          11.5,
          1.95,
          12.95,
          11.95,
          33.95,
          33.95,
          33.95,
          35.95,
          79.95,
          4.95,
          89.95,
          5.95,
          2,
          32.95,
          12.95,
          7.95,
          11.95,
          4.95,
          31.5,
          31.5,
          20.5,
          2,
          16.1,
          27.93,
          23.89,
          12.4,
          12.4,
          14.95,
          16.95,
          32.95,
          30.65,
          1,
          24.95,
          8.5,
          17.95,
          17.95,
          37.3,
          90.95,
          1,
          4.8,
          4.75,
          34.5,
          4.95,
          55.5,
          15.5,
          15.5,
          10.5,
          6.95,
          25.95,
          48.1,
          33.4,
          35.96,
          16.95,
          6.9,
          34.5,
          46.95,
          9.9,
          5.95,
          1,
          1,
          1,
          1,
          1,
          1,
          5,
          5,
          9.4,
          17.7,
          35.3,
          13.65,
          24.95,
          9.5,
          11.95,
          46.4,
          69.95,
          16.8,
          33.75,
          6.9,
          27.95,
          0.9,
          0.9,
          0.9,
          0.9,
          0.9,
          0.9,
          28.5,
          11.5,
          14.4,
          12.3,
          25.25,
          14.45,
          28.95,
          17.7,
          75.7,
          7.1,
          13.35,
          17.95,
          19.95,
          15.95,
          30.25,
          12.95,
          1.5,
          1.5,
          1.5,
          1.5,
          5,
          19.95,
          26.9,
          14.5,
          49.95
         ],
         "xaxis": "x",
         "yaxis": "y"
        }
       ],
       "layout": {
        "barmode": "relative",
        "legend": {
         "title": {
          "text": "variable"
         },
         "tracegroupgap": 0
        },
        "margin": {
         "t": 60
        },
        "template": {
         "data": {
          "bar": [
           {
            "error_x": {
             "color": "#2a3f5f"
            },
            "error_y": {
             "color": "#2a3f5f"
            },
            "marker": {
             "line": {
              "color": "#E5ECF6",
              "width": 0.5
             }
            },
            "type": "bar"
           }
          ],
          "barpolar": [
           {
            "marker": {
             "line": {
              "color": "#E5ECF6",
              "width": 0.5
             }
            },
            "type": "barpolar"
           }
          ],
          "carpet": [
           {
            "aaxis": {
             "endlinecolor": "#2a3f5f",
             "gridcolor": "white",
             "linecolor": "white",
             "minorgridcolor": "white",
             "startlinecolor": "#2a3f5f"
            },
            "baxis": {
             "endlinecolor": "#2a3f5f",
             "gridcolor": "white",
             "linecolor": "white",
             "minorgridcolor": "white",
             "startlinecolor": "#2a3f5f"
            },
            "type": "carpet"
           }
          ],
          "choropleth": [
           {
            "colorbar": {
             "outlinewidth": 0,
             "ticks": ""
            },
            "type": "choropleth"
           }
          ],
          "contour": [
           {
            "colorbar": {
             "outlinewidth": 0,
             "ticks": ""
            },
            "colorscale": [
             [
              0,
              "#0d0887"
             ],
             [
              0.1111111111111111,
              "#46039f"
             ],
             [
              0.2222222222222222,
              "#7201a8"
             ],
             [
              0.3333333333333333,
              "#9c179e"
             ],
             [
              0.4444444444444444,
              "#bd3786"
             ],
             [
              0.5555555555555556,
              "#d8576b"
             ],
             [
              0.6666666666666666,
              "#ed7953"
             ],
             [
              0.7777777777777778,
              "#fb9f3a"
             ],
             [
              0.8888888888888888,
              "#fdca26"
             ],
             [
              1,
              "#f0f921"
             ]
            ],
            "type": "contour"
           }
          ],
          "contourcarpet": [
           {
            "colorbar": {
             "outlinewidth": 0,
             "ticks": ""
            },
            "type": "contourcarpet"
           }
          ],
          "heatmap": [
           {
            "colorbar": {
             "outlinewidth": 0,
             "ticks": ""
            },
            "colorscale": [
             [
              0,
              "#0d0887"
             ],
             [
              0.1111111111111111,
              "#46039f"
             ],
             [
              0.2222222222222222,
              "#7201a8"
             ],
             [
              0.3333333333333333,
              "#9c179e"
             ],
             [
              0.4444444444444444,
              "#bd3786"
             ],
             [
              0.5555555555555556,
              "#d8576b"
             ],
             [
              0.6666666666666666,
              "#ed7953"
             ],
             [
              0.7777777777777778,
              "#fb9f3a"
             ],
             [
              0.8888888888888888,
              "#fdca26"
             ],
             [
              1,
              "#f0f921"
             ]
            ],
            "type": "heatmap"
           }
          ],
          "heatmapgl": [
           {
            "colorbar": {
             "outlinewidth": 0,
             "ticks": ""
            },
            "colorscale": [
             [
              0,
              "#0d0887"
             ],
             [
              0.1111111111111111,
              "#46039f"
             ],
             [
              0.2222222222222222,
              "#7201a8"
             ],
             [
              0.3333333333333333,
              "#9c179e"
             ],
             [
              0.4444444444444444,
              "#bd3786"
             ],
             [
              0.5555555555555556,
              "#d8576b"
             ],
             [
              0.6666666666666666,
              "#ed7953"
             ],
             [
              0.7777777777777778,
              "#fb9f3a"
             ],
             [
              0.8888888888888888,
              "#fdca26"
             ],
             [
              1,
              "#f0f921"
             ]
            ],
            "type": "heatmapgl"
           }
          ],
          "histogram": [
           {
            "marker": {
             "colorbar": {
              "outlinewidth": 0,
              "ticks": ""
             }
            },
            "type": "histogram"
           }
          ],
          "histogram2d": [
           {
            "colorbar": {
             "outlinewidth": 0,
             "ticks": ""
            },
            "colorscale": [
             [
              0,
              "#0d0887"
             ],
             [
              0.1111111111111111,
              "#46039f"
             ],
             [
              0.2222222222222222,
              "#7201a8"
             ],
             [
              0.3333333333333333,
              "#9c179e"
             ],
             [
              0.4444444444444444,
              "#bd3786"
             ],
             [
              0.5555555555555556,
              "#d8576b"
             ],
             [
              0.6666666666666666,
              "#ed7953"
             ],
             [
              0.7777777777777778,
              "#fb9f3a"
             ],
             [
              0.8888888888888888,
              "#fdca26"
             ],
             [
              1,
              "#f0f921"
             ]
            ],
            "type": "histogram2d"
           }
          ],
          "histogram2dcontour": [
           {
            "colorbar": {
             "outlinewidth": 0,
             "ticks": ""
            },
            "colorscale": [
             [
              0,
              "#0d0887"
             ],
             [
              0.1111111111111111,
              "#46039f"
             ],
             [
              0.2222222222222222,
              "#7201a8"
             ],
             [
              0.3333333333333333,
              "#9c179e"
             ],
             [
              0.4444444444444444,
              "#bd3786"
             ],
             [
              0.5555555555555556,
              "#d8576b"
             ],
             [
              0.6666666666666666,
              "#ed7953"
             ],
             [
              0.7777777777777778,
              "#fb9f3a"
             ],
             [
              0.8888888888888888,
              "#fdca26"
             ],
             [
              1,
              "#f0f921"
             ]
            ],
            "type": "histogram2dcontour"
           }
          ],
          "mesh3d": [
           {
            "colorbar": {
             "outlinewidth": 0,
             "ticks": ""
            },
            "type": "mesh3d"
           }
          ],
          "parcoords": [
           {
            "line": {
             "colorbar": {
              "outlinewidth": 0,
              "ticks": ""
             }
            },
            "type": "parcoords"
           }
          ],
          "pie": [
           {
            "automargin": true,
            "type": "pie"
           }
          ],
          "scatter": [
           {
            "marker": {
             "colorbar": {
              "outlinewidth": 0,
              "ticks": ""
             }
            },
            "type": "scatter"
           }
          ],
          "scatter3d": [
           {
            "line": {
             "colorbar": {
              "outlinewidth": 0,
              "ticks": ""
             }
            },
            "marker": {
             "colorbar": {
              "outlinewidth": 0,
              "ticks": ""
             }
            },
            "type": "scatter3d"
           }
          ],
          "scattercarpet": [
           {
            "marker": {
             "colorbar": {
              "outlinewidth": 0,
              "ticks": ""
             }
            },
            "type": "scattercarpet"
           }
          ],
          "scattergeo": [
           {
            "marker": {
             "colorbar": {
              "outlinewidth": 0,
              "ticks": ""
             }
            },
            "type": "scattergeo"
           }
          ],
          "scattergl": [
           {
            "marker": {
             "colorbar": {
              "outlinewidth": 0,
              "ticks": ""
             }
            },
            "type": "scattergl"
           }
          ],
          "scattermapbox": [
           {
            "marker": {
             "colorbar": {
              "outlinewidth": 0,
              "ticks": ""
             }
            },
            "type": "scattermapbox"
           }
          ],
          "scatterpolar": [
           {
            "marker": {
             "colorbar": {
              "outlinewidth": 0,
              "ticks": ""
             }
            },
            "type": "scatterpolar"
           }
          ],
          "scatterpolargl": [
           {
            "marker": {
             "colorbar": {
              "outlinewidth": 0,
              "ticks": ""
             }
            },
            "type": "scatterpolargl"
           }
          ],
          "scatterternary": [
           {
            "marker": {
             "colorbar": {
              "outlinewidth": 0,
              "ticks": ""
             }
            },
            "type": "scatterternary"
           }
          ],
          "surface": [
           {
            "colorbar": {
             "outlinewidth": 0,
             "ticks": ""
            },
            "colorscale": [
             [
              0,
              "#0d0887"
             ],
             [
              0.1111111111111111,
              "#46039f"
             ],
             [
              0.2222222222222222,
              "#7201a8"
             ],
             [
              0.3333333333333333,
              "#9c179e"
             ],
             [
              0.4444444444444444,
              "#bd3786"
             ],
             [
              0.5555555555555556,
              "#d8576b"
             ],
             [
              0.6666666666666666,
              "#ed7953"
             ],
             [
              0.7777777777777778,
              "#fb9f3a"
             ],
             [
              0.8888888888888888,
              "#fdca26"
             ],
             [
              1,
              "#f0f921"
             ]
            ],
            "type": "surface"
           }
          ],
          "table": [
           {
            "cells": {
             "fill": {
              "color": "#EBF0F8"
             },
             "line": {
              "color": "white"
             }
            },
            "header": {
             "fill": {
              "color": "#C8D4E3"
             },
             "line": {
              "color": "white"
             }
            },
            "type": "table"
           }
          ]
         },
         "layout": {
          "annotationdefaults": {
           "arrowcolor": "#2a3f5f",
           "arrowhead": 0,
           "arrowwidth": 1
          },
          "coloraxis": {
           "colorbar": {
            "outlinewidth": 0,
            "ticks": ""
           }
          },
          "colorscale": {
           "diverging": [
            [
             0,
             "#8e0152"
            ],
            [
             0.1,
             "#c51b7d"
            ],
            [
             0.2,
             "#de77ae"
            ],
            [
             0.3,
             "#f1b6da"
            ],
            [
             0.4,
             "#fde0ef"
            ],
            [
             0.5,
             "#f7f7f7"
            ],
            [
             0.6,
             "#e6f5d0"
            ],
            [
             0.7,
             "#b8e186"
            ],
            [
             0.8,
             "#7fbc41"
            ],
            [
             0.9,
             "#4d9221"
            ],
            [
             1,
             "#276419"
            ]
           ],
           "sequential": [
            [
             0,
             "#0d0887"
            ],
            [
             0.1111111111111111,
             "#46039f"
            ],
            [
             0.2222222222222222,
             "#7201a8"
            ],
            [
             0.3333333333333333,
             "#9c179e"
            ],
            [
             0.4444444444444444,
             "#bd3786"
            ],
            [
             0.5555555555555556,
             "#d8576b"
            ],
            [
             0.6666666666666666,
             "#ed7953"
            ],
            [
             0.7777777777777778,
             "#fb9f3a"
            ],
            [
             0.8888888888888888,
             "#fdca26"
            ],
            [
             1,
             "#f0f921"
            ]
           ],
           "sequentialminus": [
            [
             0,
             "#0d0887"
            ],
            [
             0.1111111111111111,
             "#46039f"
            ],
            [
             0.2222222222222222,
             "#7201a8"
            ],
            [
             0.3333333333333333,
             "#9c179e"
            ],
            [
             0.4444444444444444,
             "#bd3786"
            ],
            [
             0.5555555555555556,
             "#d8576b"
            ],
            [
             0.6666666666666666,
             "#ed7953"
            ],
            [
             0.7777777777777778,
             "#fb9f3a"
            ],
            [
             0.8888888888888888,
             "#fdca26"
            ],
            [
             1,
             "#f0f921"
            ]
           ]
          },
          "colorway": [
           "#636efa",
           "#EF553B",
           "#00cc96",
           "#ab63fa",
           "#FFA15A",
           "#19d3f3",
           "#FF6692",
           "#B6E880",
           "#FF97FF",
           "#FECB52"
          ],
          "font": {
           "color": "#2a3f5f"
          },
          "geo": {
           "bgcolor": "white",
           "lakecolor": "white",
           "landcolor": "#E5ECF6",
           "showlakes": true,
           "showland": true,
           "subunitcolor": "white"
          },
          "hoverlabel": {
           "align": "left"
          },
          "hovermode": "closest",
          "mapbox": {
           "style": "light"
          },
          "paper_bgcolor": "white",
          "plot_bgcolor": "#E5ECF6",
          "polar": {
           "angularaxis": {
            "gridcolor": "white",
            "linecolor": "white",
            "ticks": ""
           },
           "bgcolor": "#E5ECF6",
           "radialaxis": {
            "gridcolor": "white",
            "linecolor": "white",
            "ticks": ""
           }
          },
          "scene": {
           "xaxis": {
            "backgroundcolor": "#E5ECF6",
            "gridcolor": "white",
            "gridwidth": 2,
            "linecolor": "white",
            "showbackground": true,
            "ticks": "",
            "zerolinecolor": "white"
           },
           "yaxis": {
            "backgroundcolor": "#E5ECF6",
            "gridcolor": "white",
            "gridwidth": 2,
            "linecolor": "white",
            "showbackground": true,
            "ticks": "",
            "zerolinecolor": "white"
           },
           "zaxis": {
            "backgroundcolor": "#E5ECF6",
            "gridcolor": "white",
            "gridwidth": 2,
            "linecolor": "white",
            "showbackground": true,
            "ticks": "",
            "zerolinecolor": "white"
           }
          },
          "shapedefaults": {
           "line": {
            "color": "#2a3f5f"
           }
          },
          "ternary": {
           "aaxis": {
            "gridcolor": "white",
            "linecolor": "white",
            "ticks": ""
           },
           "baxis": {
            "gridcolor": "white",
            "linecolor": "white",
            "ticks": ""
           },
           "bgcolor": "#E5ECF6",
           "caxis": {
            "gridcolor": "white",
            "linecolor": "white",
            "ticks": ""
           }
          },
          "title": {
           "x": 0.05
          },
          "xaxis": {
           "automargin": true,
           "gridcolor": "white",
           "linecolor": "white",
           "ticks": "",
           "title": {
            "standoff": 15
           },
           "zerolinecolor": "white",
           "zerolinewidth": 2
          },
          "yaxis": {
           "automargin": true,
           "gridcolor": "white",
           "linecolor": "white",
           "ticks": "",
           "title": {
            "standoff": 15
           },
           "zerolinecolor": "white",
           "zerolinewidth": 2
          }
         }
        },
        "xaxis": {
         "anchor": "y",
         "domain": [
          0,
          1
         ],
         "title": {
          "text": "value"
         }
        },
        "yaxis": {
         "anchor": "x",
         "domain": [
          0,
          1
         ],
         "title": {
          "text": "count"
         }
        }
       }
      }
     },
     "metadata": {},
     "output_type": "display_data"
    }
   ],
   "source": [
    "df['item_price'].plot(kind=\"hist\", bins=20)"
   ]
  },
  {
   "cell_type": "code",
   "execution_count": 24,
   "metadata": {},
   "outputs": [
    {
     "data": {
      "text/html": [
       "<div>\n",
       "<style scoped>\n",
       "    .dataframe tbody tr th:only-of-type {\n",
       "        vertical-align: middle;\n",
       "    }\n",
       "\n",
       "    .dataframe tbody tr th {\n",
       "        vertical-align: top;\n",
       "    }\n",
       "\n",
       "    .dataframe thead th {\n",
       "        text-align: right;\n",
       "    }\n",
       "</style>\n",
       "<table border=\"1\" class=\"dataframe\">\n",
       "  <thead>\n",
       "    <tr style=\"text-align: right;\">\n",
       "      <th></th>\n",
       "      <th>item_qty</th>\n",
       "      <th>item_price</th>\n",
       "      <th>item_name</th>\n",
       "      <th>item_id</th>\n",
       "      <th>item_category</th>\n",
       "      <th>trx_id</th>\n",
       "      <th>trx_date</th>\n",
       "      <th>trx_total_price</th>\n",
       "      <th>trx_discount</th>\n",
       "    </tr>\n",
       "  </thead>\n",
       "  <tbody>\n",
       "    <tr>\n",
       "      <th>5</th>\n",
       "      <td>1</td>\n",
       "      <td>179.90</td>\n",
       "      <td>DH 160/200 COTON BIO 57 FILS MASTIC MARJANE104870</td>\n",
       "      <td>986583</td>\n",
       "      <td>LINGE DE MAISON</td>\n",
       "      <td>9992206050015164648000802200676057</td>\n",
       "      <td>2022-06-05 19:46:48</td>\n",
       "      <td>1170.05</td>\n",
       "      <td>0.0</td>\n",
       "    </tr>\n",
       "    <tr>\n",
       "      <th>6</th>\n",
       "      <td>1</td>\n",
       "      <td>199.00</td>\n",
       "      <td>DP240/30057FILSTODAYMASTIC201612COTON</td>\n",
       "      <td>986583</td>\n",
       "      <td>LINGE DE MAISON</td>\n",
       "      <td>9992206050015164648000802200676057</td>\n",
       "      <td>2022-06-05 19:46:48</td>\n",
       "      <td>1170.05</td>\n",
       "      <td>0.0</td>\n",
       "    </tr>\n",
       "    <tr>\n",
       "      <th>15</th>\n",
       "      <td>1</td>\n",
       "      <td>399.00</td>\n",
       "      <td>TABLE A REPASSER ARES 136x92x43 REF 18367</td>\n",
       "      <td>350193</td>\n",
       "      <td>ART MENAG/RANG</td>\n",
       "      <td>9992206050015164648000802200676057</td>\n",
       "      <td>2022-06-05 19:46:48</td>\n",
       "      <td>1170.05</td>\n",
       "      <td>0.0</td>\n",
       "    </tr>\n",
       "    <tr>\n",
       "      <th>32</th>\n",
       "      <td>1</td>\n",
       "      <td>128.60</td>\n",
       "      <td>GLADE AUTO HOLD PEONY 269ML</td>\n",
       "      <td>350072</td>\n",
       "      <td>DROGUERIE</td>\n",
       "      <td>9992205220157125845000300150451014</td>\n",
       "      <td>2022-05-22 15:58:45</td>\n",
       "      <td>817.14</td>\n",
       "      <td>0.0</td>\n",
       "    </tr>\n",
       "    <tr>\n",
       "      <th>0</th>\n",
       "      <td>1</td>\n",
       "      <td>149.00</td>\n",
       "      <td>SUPPORT TV FIXE 37\" - 70\"  DTB-121EA MGS</td>\n",
       "      <td>4737980</td>\n",
       "      <td>ACCESSOIRES IMAGE ET SON</td>\n",
       "      <td>9992204150015195535000200210360092</td>\n",
       "      <td>2022-04-15 22:55:35</td>\n",
       "      <td>149.00</td>\n",
       "      <td>0.0</td>\n",
       "    </tr>\n",
       "    <tr>\n",
       "      <th>0</th>\n",
       "      <td>1</td>\n",
       "      <td>699.00</td>\n",
       "      <td>MIXEUR PLONGEANT DD655 1000W 3 ACCES MOULINEX</td>\n",
       "      <td>350217</td>\n",
       "      <td>PETIT ELECTRO</td>\n",
       "      <td>9992204040026210309002401490012834</td>\n",
       "      <td>2022-04-04 00:06:41</td>\n",
       "      <td>1147.00</td>\n",
       "      <td>0.0</td>\n",
       "    </tr>\n",
       "    <tr>\n",
       "      <th>1</th>\n",
       "      <td>1</td>\n",
       "      <td>249.00</td>\n",
       "      <td>PRESSE AGRUMES  CP 3535 40 W 1 L SEVERIN</td>\n",
       "      <td>350217</td>\n",
       "      <td>PETIT ELECTRO</td>\n",
       "      <td>9992204040026210309002401490012834</td>\n",
       "      <td>2022-04-04 00:06:41</td>\n",
       "      <td>1147.00</td>\n",
       "      <td>0.0</td>\n",
       "    </tr>\n",
       "    <tr>\n",
       "      <th>2</th>\n",
       "      <td>1</td>\n",
       "      <td>199.00</td>\n",
       "      <td>MOULIN A CAFE MKM6003/TSM6A013B BOSCH</td>\n",
       "      <td>350217</td>\n",
       "      <td>PETIT ELECTRO</td>\n",
       "      <td>9992204040026210309002401490012834</td>\n",
       "      <td>2022-04-04 00:06:41</td>\n",
       "      <td>1147.00</td>\n",
       "      <td>0.0</td>\n",
       "    </tr>\n",
       "    <tr>\n",
       "      <th>5</th>\n",
       "      <td>1</td>\n",
       "      <td>119.95</td>\n",
       "      <td>FINISH ALL IN ONE MAX REGULAR X68 NIP38</td>\n",
       "      <td>350071</td>\n",
       "      <td>ENTRETIEN</td>\n",
       "      <td>9992204030157135543000200210379457</td>\n",
       "      <td>2022-04-03 16:55:43</td>\n",
       "      <td>382.52</td>\n",
       "      <td>0.0</td>\n",
       "    </tr>\n",
       "    <tr>\n",
       "      <th>0</th>\n",
       "      <td>1</td>\n",
       "      <td>139.00</td>\n",
       "      <td>ECOUTEUR DYNAMIQUE FIL MDR-EX15APBZE NOIR SONY</td>\n",
       "      <td>4737977</td>\n",
       "      <td>AUDIO HI FI</td>\n",
       "      <td>9992202090015150713000200500134583</td>\n",
       "      <td>2022-02-09 18:07:18</td>\n",
       "      <td>139.00</td>\n",
       "      <td>0.0</td>\n",
       "    </tr>\n",
       "  </tbody>\n",
       "</table>\n",
       "</div>"
      ],
      "text/plain": [
       "    item_qty  item_price                                          item_name  \\\n",
       "5          1      179.90  DH 160/200 COTON BIO 57 FILS MASTIC MARJANE104870   \n",
       "6          1      199.00              DP240/30057FILSTODAYMASTIC201612COTON   \n",
       "15         1      399.00          TABLE A REPASSER ARES 136x92x43 REF 18367   \n",
       "32         1      128.60                        GLADE AUTO HOLD PEONY 269ML   \n",
       "0          1      149.00           SUPPORT TV FIXE 37\" - 70\"  DTB-121EA MGS   \n",
       "0          1      699.00      MIXEUR PLONGEANT DD655 1000W 3 ACCES MOULINEX   \n",
       "1          1      249.00           PRESSE AGRUMES  CP 3535 40 W 1 L SEVERIN   \n",
       "2          1      199.00              MOULIN A CAFE MKM6003/TSM6A013B BOSCH   \n",
       "5          1      119.95            FINISH ALL IN ONE MAX REGULAR X68 NIP38   \n",
       "0          1      139.00     ECOUTEUR DYNAMIQUE FIL MDR-EX15APBZE NOIR SONY   \n",
       "\n",
       "    item_id             item_category                              trx_id  \\\n",
       "5    986583           LINGE DE MAISON  9992206050015164648000802200676057   \n",
       "6    986583           LINGE DE MAISON  9992206050015164648000802200676057   \n",
       "15   350193            ART MENAG/RANG  9992206050015164648000802200676057   \n",
       "32   350072                 DROGUERIE  9992205220157125845000300150451014   \n",
       "0   4737980  ACCESSOIRES IMAGE ET SON  9992204150015195535000200210360092   \n",
       "0    350217             PETIT ELECTRO  9992204040026210309002401490012834   \n",
       "1    350217             PETIT ELECTRO  9992204040026210309002401490012834   \n",
       "2    350217             PETIT ELECTRO  9992204040026210309002401490012834   \n",
       "5    350071                 ENTRETIEN  9992204030157135543000200210379457   \n",
       "0   4737977               AUDIO HI FI  9992202090015150713000200500134583   \n",
       "\n",
       "              trx_date  trx_total_price  trx_discount  \n",
       "5  2022-06-05 19:46:48          1170.05           0.0  \n",
       "6  2022-06-05 19:46:48          1170.05           0.0  \n",
       "15 2022-06-05 19:46:48          1170.05           0.0  \n",
       "32 2022-05-22 15:58:45           817.14           0.0  \n",
       "0  2022-04-15 22:55:35           149.00           0.0  \n",
       "0  2022-04-04 00:06:41          1147.00           0.0  \n",
       "1  2022-04-04 00:06:41          1147.00           0.0  \n",
       "2  2022-04-04 00:06:41          1147.00           0.0  \n",
       "5  2022-04-03 16:55:43           382.52           0.0  \n",
       "0  2022-02-09 18:07:18           139.00           0.0  "
      ]
     },
     "execution_count": 24,
     "metadata": {},
     "output_type": "execute_result"
    }
   ],
   "source": [
    "## look at expensive items\n",
    "\n",
    "df.loc[df.item_price >= 100].head(10)"
   ]
  },
  {
   "cell_type": "code",
   "execution_count": 36,
   "metadata": {},
   "outputs": [
    {
     "data": {
      "text/html": [
       "<div>\n",
       "<style scoped>\n",
       "    .dataframe tbody tr th:only-of-type {\n",
       "        vertical-align: middle;\n",
       "    }\n",
       "\n",
       "    .dataframe tbody tr th {\n",
       "        vertical-align: top;\n",
       "    }\n",
       "\n",
       "    .dataframe thead th {\n",
       "        text-align: right;\n",
       "    }\n",
       "</style>\n",
       "<table border=\"1\" class=\"dataframe\">\n",
       "  <thead>\n",
       "    <tr style=\"text-align: right;\">\n",
       "      <th></th>\n",
       "      <th>item_category</th>\n",
       "      <th>category_spend</th>\n",
       "    </tr>\n",
       "  </thead>\n",
       "  <tbody>\n",
       "    <tr>\n",
       "      <th>47</th>\n",
       "      <td>PETIT ELECTRO</td>\n",
       "      <td>1147.00</td>\n",
       "    </tr>\n",
       "    <tr>\n",
       "      <th>23</th>\n",
       "      <td>ENTRETIEN</td>\n",
       "      <td>757.90</td>\n",
       "    </tr>\n",
       "    <tr>\n",
       "      <th>31</th>\n",
       "      <td>HYGIENE</td>\n",
       "      <td>695.25</td>\n",
       "    </tr>\n",
       "    <tr>\n",
       "      <th>12</th>\n",
       "      <td>BOISSONS CHAUDES</td>\n",
       "      <td>595.90</td>\n",
       "    </tr>\n",
       "    <tr>\n",
       "      <th>4</th>\n",
       "      <td>ART MENAG/RANG</td>\n",
       "      <td>493.60</td>\n",
       "    </tr>\n",
       "    <tr>\n",
       "      <th>16</th>\n",
       "      <td>CAPILLAIRE</td>\n",
       "      <td>433.00</td>\n",
       "    </tr>\n",
       "    <tr>\n",
       "      <th>19</th>\n",
       "      <td>CONSERVES &amp; PLATS CUISINES</td>\n",
       "      <td>411.60</td>\n",
       "    </tr>\n",
       "    <tr>\n",
       "      <th>40</th>\n",
       "      <td>LINGE DE MAISON</td>\n",
       "      <td>378.90</td>\n",
       "    </tr>\n",
       "    <tr>\n",
       "      <th>21</th>\n",
       "      <td>DROGUERIE</td>\n",
       "      <td>336.45</td>\n",
       "    </tr>\n",
       "    <tr>\n",
       "      <th>50</th>\n",
       "      <td>POULET L.S</td>\n",
       "      <td>328.00</td>\n",
       "    </tr>\n",
       "    <tr>\n",
       "      <th>54</th>\n",
       "      <td>STAND CHARCUTER</td>\n",
       "      <td>327.81</td>\n",
       "    </tr>\n",
       "    <tr>\n",
       "      <th>18</th>\n",
       "      <td>CONFISERIE</td>\n",
       "      <td>287.25</td>\n",
       "    </tr>\n",
       "    <tr>\n",
       "      <th>9</th>\n",
       "      <td>BEAUTE</td>\n",
       "      <td>286.35</td>\n",
       "    </tr>\n",
       "    <tr>\n",
       "      <th>55</th>\n",
       "      <td>STAND CREMERIE</td>\n",
       "      <td>235.33</td>\n",
       "    </tr>\n",
       "    <tr>\n",
       "      <th>29</th>\n",
       "      <td>GRAINES, CHIPS&amp;BISCUITS APERITIFS</td>\n",
       "      <td>235.05</td>\n",
       "    </tr>\n",
       "    <tr>\n",
       "      <th>48</th>\n",
       "      <td>PETIT-DEJEUNER</td>\n",
       "      <td>230.45</td>\n",
       "    </tr>\n",
       "    <tr>\n",
       "      <th>58</th>\n",
       "      <td>VIANDES &amp; POISSONS</td>\n",
       "      <td>223.90</td>\n",
       "    </tr>\n",
       "    <tr>\n",
       "      <th>60</th>\n",
       "      <td>YAOURT&amp;DESSERT</td>\n",
       "      <td>209.55</td>\n",
       "    </tr>\n",
       "    <tr>\n",
       "      <th>36</th>\n",
       "      <td>LEGUM&amp;ACCOMPAG</td>\n",
       "      <td>209.45</td>\n",
       "    </tr>\n",
       "    <tr>\n",
       "      <th>25</th>\n",
       "      <td>FROMAGE</td>\n",
       "      <td>199.30</td>\n",
       "    </tr>\n",
       "  </tbody>\n",
       "</table>\n",
       "</div>"
      ],
      "text/plain": [
       "                        item_category  category_spend\n",
       "47                      PETIT ELECTRO         1147.00\n",
       "23                          ENTRETIEN          757.90\n",
       "31                            HYGIENE          695.25\n",
       "12                   BOISSONS CHAUDES          595.90\n",
       "4                      ART MENAG/RANG          493.60\n",
       "16                         CAPILLAIRE          433.00\n",
       "19         CONSERVES & PLATS CUISINES          411.60\n",
       "40                    LINGE DE MAISON          378.90\n",
       "21                          DROGUERIE          336.45\n",
       "50                         POULET L.S          328.00\n",
       "54                    STAND CHARCUTER          327.81\n",
       "18                         CONFISERIE          287.25\n",
       "9                              BEAUTE          286.35\n",
       "55                     STAND CREMERIE          235.33\n",
       "29  GRAINES, CHIPS&BISCUITS APERITIFS          235.05\n",
       "48                     PETIT-DEJEUNER          230.45\n",
       "58                 VIANDES & POISSONS          223.90\n",
       "60                     YAOURT&DESSERT          209.55\n",
       "36                     LEGUM&ACCOMPAG          209.45\n",
       "25                            FROMAGE          199.30"
      ]
     },
     "execution_count": 36,
     "metadata": {},
     "output_type": "execute_result"
    }
   ],
   "source": [
    "spend_by_category = df.groupby('item_category').agg({'item_price':[sum]}).reset_index()\n",
    "spend_by_category.columns = ['item_category', 'category_spend']\n",
    "spend_by_category.sort_values(by='category_spend', ascending=False, inplace=True)\n",
    "spend_by_category.head(20)"
   ]
  },
  {
   "cell_type": "code",
   "execution_count": 37,
   "metadata": {},
   "outputs": [
    {
     "data": {
      "text/html": [
       "<div>\n",
       "<style scoped>\n",
       "    .dataframe tbody tr th:only-of-type {\n",
       "        vertical-align: middle;\n",
       "    }\n",
       "\n",
       "    .dataframe tbody tr th {\n",
       "        vertical-align: top;\n",
       "    }\n",
       "\n",
       "    .dataframe thead th {\n",
       "        text-align: right;\n",
       "    }\n",
       "</style>\n",
       "<table border=\"1\" class=\"dataframe\">\n",
       "  <thead>\n",
       "    <tr style=\"text-align: right;\">\n",
       "      <th></th>\n",
       "      <th>item_category</th>\n",
       "      <th>category_spend</th>\n",
       "      <th>category_pct_total</th>\n",
       "    </tr>\n",
       "  </thead>\n",
       "  <tbody>\n",
       "    <tr>\n",
       "      <th>47</th>\n",
       "      <td>PETIT ELECTRO</td>\n",
       "      <td>1147.00</td>\n",
       "      <td>0.103448</td>\n",
       "    </tr>\n",
       "    <tr>\n",
       "      <th>23</th>\n",
       "      <td>ENTRETIEN</td>\n",
       "      <td>757.90</td>\n",
       "      <td>0.068355</td>\n",
       "    </tr>\n",
       "    <tr>\n",
       "      <th>31</th>\n",
       "      <td>HYGIENE</td>\n",
       "      <td>695.25</td>\n",
       "      <td>0.062705</td>\n",
       "    </tr>\n",
       "    <tr>\n",
       "      <th>12</th>\n",
       "      <td>BOISSONS CHAUDES</td>\n",
       "      <td>595.90</td>\n",
       "      <td>0.053744</td>\n",
       "    </tr>\n",
       "    <tr>\n",
       "      <th>4</th>\n",
       "      <td>ART MENAG/RANG</td>\n",
       "      <td>493.60</td>\n",
       "      <td>0.044518</td>\n",
       "    </tr>\n",
       "    <tr>\n",
       "      <th>16</th>\n",
       "      <td>CAPILLAIRE</td>\n",
       "      <td>433.00</td>\n",
       "      <td>0.039052</td>\n",
       "    </tr>\n",
       "    <tr>\n",
       "      <th>19</th>\n",
       "      <td>CONSERVES &amp; PLATS CUISINES</td>\n",
       "      <td>411.60</td>\n",
       "      <td>0.037122</td>\n",
       "    </tr>\n",
       "    <tr>\n",
       "      <th>40</th>\n",
       "      <td>LINGE DE MAISON</td>\n",
       "      <td>378.90</td>\n",
       "      <td>0.034173</td>\n",
       "    </tr>\n",
       "    <tr>\n",
       "      <th>21</th>\n",
       "      <td>DROGUERIE</td>\n",
       "      <td>336.45</td>\n",
       "      <td>0.030344</td>\n",
       "    </tr>\n",
       "    <tr>\n",
       "      <th>50</th>\n",
       "      <td>POULET L.S</td>\n",
       "      <td>328.00</td>\n",
       "      <td>0.029582</td>\n",
       "    </tr>\n",
       "  </tbody>\n",
       "</table>\n",
       "</div>"
      ],
      "text/plain": [
       "                 item_category  category_spend  category_pct_total\n",
       "47               PETIT ELECTRO         1147.00            0.103448\n",
       "23                   ENTRETIEN          757.90            0.068355\n",
       "31                     HYGIENE          695.25            0.062705\n",
       "12            BOISSONS CHAUDES          595.90            0.053744\n",
       "4               ART MENAG/RANG          493.60            0.044518\n",
       "16                  CAPILLAIRE          433.00            0.039052\n",
       "19  CONSERVES & PLATS CUISINES          411.60            0.037122\n",
       "40             LINGE DE MAISON          378.90            0.034173\n",
       "21                   DROGUERIE          336.45            0.030344\n",
       "50                  POULET L.S          328.00            0.029582"
      ]
     },
     "execution_count": 37,
     "metadata": {},
     "output_type": "execute_result"
    }
   ],
   "source": [
    "spend_by_category['category_pct_total'] = spend_by_category['category_spend'] / spend_by_category['category_spend'].sum()\n",
    "spend_by_category.head(10)"
   ]
  },
  {
   "cell_type": "code",
   "execution_count": 39,
   "metadata": {},
   "outputs": [
    {
     "name": "stdout",
     "output_type": "stream",
     "text": [
      "11087.720000000001\n",
      "247717.55999999997\n"
     ]
    }
   ],
   "source": [
    "print(spend_by_category['category_spend'].sum())\n",
    "\n",
    "## get unique trx, sum total price (sur 35 rows)\n",
    "\n",
    "print(df['trx_total_price'].sum())\n"
   ]
  },
  {
   "cell_type": "code",
   "execution_count": null,
   "metadata": {},
   "outputs": [],
   "source": [
    "## boxplot price / categorie"
   ]
  }
 ],
 "metadata": {
  "interpreter": {
   "hash": "0b323088a79a4880233909a7f2d803fad0b7e85c0bd46d78e478096e5b3555a6"
  },
  "kernelspec": {
   "display_name": "Python 3.7.4 64-bit",
   "language": "python",
   "name": "python3"
  },
  "language_info": {
   "codemirror_mode": {
    "name": "ipython",
    "version": 3
   },
   "file_extension": ".py",
   "mimetype": "text/x-python",
   "name": "python",
   "nbconvert_exporter": "python",
   "pygments_lexer": "ipython3",
   "version": "3.7.4"
  },
  "orig_nbformat": 4
 },
 "nbformat": 4,
 "nbformat_minor": 2
}
