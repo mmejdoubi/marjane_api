{
 "cells": [
  {
   "cell_type": "code",
   "execution_count": 2,
   "metadata": {},
   "outputs": [],
   "source": [
    "import pandas as pd\n",
    "import numpy as np\n",
    "import seaborn as sns\n",
    "import plotly.express as px"
   ]
  },
  {
   "cell_type": "code",
   "execution_count": 2,
   "metadata": {},
   "outputs": [
    {
     "name": "stdout",
     "output_type": "stream",
     "text": [
      " Le volume dans le lecteur D s'appelle Data\n",
      " Le num�ro de s�rie du volume est EA5C-967D\n",
      "\n",
      " R�pertoire de d:\\tools\\winpython\\WPy64-3741\\notebooks\\marjane_api\n",
      "\n",
      "24/08/2022  01:39    <DIR>          .\n",
      "24/08/2022  01:39    <DIR>          ..\n",
      "18/08/2022  21:35            22�553 df_orders_MM_07_24_2022.parquet\n",
      "20/08/2022  12:16            60�199 marjane_api_EDA.ipynb\n",
      "24/08/2022  15:30             5�675 marjane_api_oop.ipynb\n",
      "18/08/2022  21:56            30�556 marjane_get_orders.ipynb\n",
      "               4 fichier(s)          118�983 octets\n",
      "               2 R�p(s)  52�689�498�112 octets libres\n"
     ]
    }
   ],
   "source": [
    "%ls"
   ]
  },
  {
   "cell_type": "code",
   "execution_count": 3,
   "metadata": {},
   "outputs": [],
   "source": [
    "## read trx file\n",
    "\n",
    "df = pd.read_parquet(\"./df_orders_MM_07_24_2022.parquet\")"
   ]
  },
  {
   "cell_type": "code",
   "execution_count": 4,
   "metadata": {},
   "outputs": [
    {
     "name": "stdout",
     "output_type": "stream",
     "text": [
      "<class 'pandas.core.frame.DataFrame'>\n",
      "Int64Index: 536 entries, 0 to 3\n",
      "Data columns (total 9 columns):\n",
      " #   Column           Non-Null Count  Dtype         \n",
      "---  ------           --------------  -----         \n",
      " 0   item_qty         536 non-null    int64         \n",
      " 1   item_price       536 non-null    float64       \n",
      " 2   item_name        536 non-null    object        \n",
      " 3   item_id          501 non-null    object        \n",
      " 4   item_category    501 non-null    object        \n",
      " 5   trx_id           536 non-null    object        \n",
      " 6   trx_date         536 non-null    datetime64[ns]\n",
      " 7   trx_total_price  536 non-null    float64       \n",
      " 8   trx_discount     536 non-null    float64       \n",
      "dtypes: datetime64[ns](1), float64(3), int64(1), object(4)\n",
      "memory usage: 41.9+ KB\n"
     ]
    }
   ],
   "source": [
    "## convert data types\n",
    "\n",
    "df['item_qty'] = pd.to_numeric(df['item_qty'])\n",
    "df['item_price'] = pd.to_numeric(df['item_price'])\n",
    "df['trx_total_price'] = pd.to_numeric(df['trx_total_price'])\n",
    "df['trx_discount'] = pd.to_numeric(df['trx_discount'])\n",
    "df['trx_date'] = pd.to_datetime(df['trx_date'])\n",
    "\n",
    "df.info()"
   ]
  },
  {
   "cell_type": "code",
   "execution_count": 5,
   "metadata": {},
   "outputs": [
    {
     "data": {
      "text/html": [
       "<div>\n",
       "<style scoped>\n",
       "    .dataframe tbody tr th:only-of-type {\n",
       "        vertical-align: middle;\n",
       "    }\n",
       "\n",
       "    .dataframe tbody tr th {\n",
       "        vertical-align: top;\n",
       "    }\n",
       "\n",
       "    .dataframe thead th {\n",
       "        text-align: right;\n",
       "    }\n",
       "</style>\n",
       "<table border=\"1\" class=\"dataframe\">\n",
       "  <thead>\n",
       "    <tr style=\"text-align: right;\">\n",
       "      <th></th>\n",
       "      <th>item_qty</th>\n",
       "      <th>item_price</th>\n",
       "      <th>item_name</th>\n",
       "      <th>item_id</th>\n",
       "      <th>item_category</th>\n",
       "      <th>trx_id</th>\n",
       "      <th>trx_date</th>\n",
       "      <th>trx_total_price</th>\n",
       "      <th>trx_discount</th>\n",
       "    </tr>\n",
       "  </thead>\n",
       "  <tbody>\n",
       "    <tr>\n",
       "      <th>0</th>\n",
       "      <td>1</td>\n",
       "      <td>19.95</td>\n",
       "      <td>FARFALLE BIOITALIA 500G</td>\n",
       "      <td>350061</td>\n",
       "      <td>PATES FECULENTS</td>\n",
       "      <td>9992207240157184115000400230904355</td>\n",
       "      <td>2022-07-24 21:42:37</td>\n",
       "      <td>855.85</td>\n",
       "      <td>0.0</td>\n",
       "    </tr>\n",
       "    <tr>\n",
       "      <th>1</th>\n",
       "      <td>1</td>\n",
       "      <td>9.38</td>\n",
       "      <td>MELON   SOUIHLA  AU KG</td>\n",
       "      <td>350154</td>\n",
       "      <td>FRUITS</td>\n",
       "      <td>9992207240157184115000400230904355</td>\n",
       "      <td>2022-07-24 21:42:37</td>\n",
       "      <td>855.85</td>\n",
       "      <td>0.0</td>\n",
       "    </tr>\n",
       "    <tr>\n",
       "      <th>2</th>\n",
       "      <td>1</td>\n",
       "      <td>15.98</td>\n",
       "      <td>BANANE AU KG</td>\n",
       "      <td>350154</td>\n",
       "      <td>FRUITS</td>\n",
       "      <td>9992207240157184115000400230904355</td>\n",
       "      <td>2022-07-24 21:42:37</td>\n",
       "      <td>855.85</td>\n",
       "      <td>0.0</td>\n",
       "    </tr>\n",
       "    <tr>\n",
       "      <th>3</th>\n",
       "      <td>1</td>\n",
       "      <td>5.01</td>\n",
       "      <td>CONCOMBRE COURT AU KG(10)</td>\n",
       "      <td>350155</td>\n",
       "      <td>LEGUMES</td>\n",
       "      <td>9992207240157184115000400230904355</td>\n",
       "      <td>2022-07-24 21:42:37</td>\n",
       "      <td>855.85</td>\n",
       "      <td>0.0</td>\n",
       "    </tr>\n",
       "    <tr>\n",
       "      <th>4</th>\n",
       "      <td>1</td>\n",
       "      <td>4.53</td>\n",
       "      <td>BETTERAVE LE KG(8)</td>\n",
       "      <td>350155</td>\n",
       "      <td>LEGUMES</td>\n",
       "      <td>9992207240157184115000400230904355</td>\n",
       "      <td>2022-07-24 21:42:37</td>\n",
       "      <td>855.85</td>\n",
       "      <td>0.0</td>\n",
       "    </tr>\n",
       "  </tbody>\n",
       "</table>\n",
       "</div>"
      ],
      "text/plain": [
       "   item_qty  item_price                  item_name item_id    item_category  \\\n",
       "0         1       19.95    FARFALLE BIOITALIA 500G  350061  PATES FECULENTS   \n",
       "1         1        9.38     MELON   SOUIHLA  AU KG  350154           FRUITS   \n",
       "2         1       15.98               BANANE AU KG  350154           FRUITS   \n",
       "3         1        5.01  CONCOMBRE COURT AU KG(10)  350155          LEGUMES   \n",
       "4         1        4.53         BETTERAVE LE KG(8)  350155          LEGUMES   \n",
       "\n",
       "                               trx_id            trx_date  trx_total_price  \\\n",
       "0  9992207240157184115000400230904355 2022-07-24 21:42:37           855.85   \n",
       "1  9992207240157184115000400230904355 2022-07-24 21:42:37           855.85   \n",
       "2  9992207240157184115000400230904355 2022-07-24 21:42:37           855.85   \n",
       "3  9992207240157184115000400230904355 2022-07-24 21:42:37           855.85   \n",
       "4  9992207240157184115000400230904355 2022-07-24 21:42:37           855.85   \n",
       "\n",
       "   trx_discount  \n",
       "0           0.0  \n",
       "1           0.0  \n",
       "2           0.0  \n",
       "3           0.0  \n",
       "4           0.0  "
      ]
     },
     "execution_count": 5,
     "metadata": {},
     "output_type": "execute_result"
    }
   ],
   "source": [
    "df.head(5)"
   ]
  },
  {
   "cell_type": "code",
   "execution_count": 6,
   "metadata": {},
   "outputs": [
    {
     "name": "stdout",
     "output_type": "stream",
     "text": [
      "8\n",
      "347\n",
      "35\n",
      "9.914285714285715\n"
     ]
    }
   ],
   "source": [
    "## DEV trip stats\n",
    "\n",
    "## getTripStats output following stats :\n",
    "    ## recence derniere visite, avg visit amount_overall\n",
    "    ## dt premiere visite\n",
    "    ## dt derniere visite\n",
    "    ## min/max/avg/mediane temps entre visites\n",
    "    ## nb articles par visite\n",
    "\n",
    "## input DS : df\n",
    "import datetime \n",
    "\n",
    "REF_DATE = datetime.date(2022, 8,1)\n",
    "\n",
    "last_trx_dt = df['trx_date'].dt.date.max()\n",
    "first_trx_dt = df['trx_date'].dt.date.min()\n",
    "trx_spread = (last_trx_dt - first_trx_dt).days\n",
    "trx_active_days = df['trx_date'].nunique()\n",
    "trx_avg_latency = trx_spread / trx_active_days\n",
    "\n",
    "## recence par rapport à date_calcul\n",
    "days_since_last_trx = (REF_DATE - last_trx_dt).days\n",
    "\n",
    "## nb articles / trip\n",
    "## chaque trx => count des items\n",
    "\n",
    "\n",
    "print(days_since_last_trx)\n",
    "print(trx_spread)\n",
    "print(trx_active_days)\n",
    "print(trx_avg_latency)"
   ]
  },
  {
   "cell_type": "code",
   "execution_count": 7,
   "metadata": {},
   "outputs": [
    {
     "data": {
      "text/html": [
       "<div>\n",
       "<style scoped>\n",
       "    .dataframe tbody tr th:only-of-type {\n",
       "        vertical-align: middle;\n",
       "    }\n",
       "\n",
       "    .dataframe tbody tr th {\n",
       "        vertical-align: top;\n",
       "    }\n",
       "\n",
       "    .dataframe thead th {\n",
       "        text-align: right;\n",
       "    }\n",
       "</style>\n",
       "<table border=\"1\" class=\"dataframe\">\n",
       "  <thead>\n",
       "    <tr style=\"text-align: right;\">\n",
       "      <th></th>\n",
       "      <th>trx_id</th>\n",
       "      <th>item_id</th>\n",
       "    </tr>\n",
       "  </thead>\n",
       "  <tbody>\n",
       "    <tr>\n",
       "      <th>0</th>\n",
       "      <td>9992108110010161915000300190174979</td>\n",
       "      <td>4</td>\n",
       "    </tr>\n",
       "    <tr>\n",
       "      <th>1</th>\n",
       "      <td>9992109100026164059002001100946057</td>\n",
       "      <td>1</td>\n",
       "    </tr>\n",
       "    <tr>\n",
       "      <th>2</th>\n",
       "      <td>9992110100157185042000300170914675</td>\n",
       "      <td>31</td>\n",
       "    </tr>\n",
       "    <tr>\n",
       "      <th>3</th>\n",
       "      <td>9992110310157182526000400210409688</td>\n",
       "      <td>28</td>\n",
       "    </tr>\n",
       "    <tr>\n",
       "      <th>4</th>\n",
       "      <td>9992111270026191754001501720235408</td>\n",
       "      <td>8</td>\n",
       "    </tr>\n",
       "    <tr>\n",
       "      <th>5</th>\n",
       "      <td>9992112010157174333000400210540378</td>\n",
       "      <td>17</td>\n",
       "    </tr>\n",
       "    <tr>\n",
       "      <th>6</th>\n",
       "      <td>9992112110026165031001101810518043</td>\n",
       "      <td>9</td>\n",
       "    </tr>\n",
       "    <tr>\n",
       "      <th>7</th>\n",
       "      <td>9992112150015171457001001330775993</td>\n",
       "      <td>3</td>\n",
       "    </tr>\n",
       "    <tr>\n",
       "      <th>8</th>\n",
       "      <td>9992112180157171451000400170636375</td>\n",
       "      <td>27</td>\n",
       "    </tr>\n",
       "    <tr>\n",
       "      <th>9</th>\n",
       "      <td>9992112300157173913000200030064231</td>\n",
       "      <td>32</td>\n",
       "    </tr>\n",
       "    <tr>\n",
       "      <th>10</th>\n",
       "      <td>9992201070026183643001501790456677</td>\n",
       "      <td>17</td>\n",
       "    </tr>\n",
       "    <tr>\n",
       "      <th>11</th>\n",
       "      <td>9992201120026182615001301860074158</td>\n",
       "      <td>25</td>\n",
       "    </tr>\n",
       "    <tr>\n",
       "      <th>12</th>\n",
       "      <td>9992201240157115140000300010120338</td>\n",
       "      <td>10</td>\n",
       "    </tr>\n",
       "    <tr>\n",
       "      <th>13</th>\n",
       "      <td>9992201300157182950000300170142263</td>\n",
       "      <td>18</td>\n",
       "    </tr>\n",
       "    <tr>\n",
       "      <th>14</th>\n",
       "      <td>9992202030157153619000300200151664</td>\n",
       "      <td>20</td>\n",
       "    </tr>\n",
       "    <tr>\n",
       "      <th>15</th>\n",
       "      <td>9992202080026174431002101870226219</td>\n",
       "      <td>7</td>\n",
       "    </tr>\n",
       "    <tr>\n",
       "      <th>16</th>\n",
       "      <td>9992202090015150713000200500134583</td>\n",
       "      <td>1</td>\n",
       "    </tr>\n",
       "    <tr>\n",
       "      <th>17</th>\n",
       "      <td>9992203100015164949000201400222715</td>\n",
       "      <td>2</td>\n",
       "    </tr>\n",
       "    <tr>\n",
       "      <th>18</th>\n",
       "      <td>9992203110157163634000400010089826</td>\n",
       "      <td>17</td>\n",
       "    </tr>\n",
       "    <tr>\n",
       "      <th>19</th>\n",
       "      <td>9992203220157172710000200170334267</td>\n",
       "      <td>28</td>\n",
       "    </tr>\n",
       "    <tr>\n",
       "      <th>20</th>\n",
       "      <td>9992204030157135543000200210379457</td>\n",
       "      <td>17</td>\n",
       "    </tr>\n",
       "    <tr>\n",
       "      <th>21</th>\n",
       "      <td>9992204040026210309002401490012834</td>\n",
       "      <td>3</td>\n",
       "    </tr>\n",
       "    <tr>\n",
       "      <th>22</th>\n",
       "      <td>9992204130157143638000300170335874</td>\n",
       "      <td>14</td>\n",
       "    </tr>\n",
       "    <tr>\n",
       "      <th>23</th>\n",
       "      <td>9992204150015195535000200210360092</td>\n",
       "      <td>1</td>\n",
       "    </tr>\n",
       "    <tr>\n",
       "      <th>24</th>\n",
       "      <td>9992204210157135242000500210509897</td>\n",
       "      <td>8</td>\n",
       "    </tr>\n",
       "    <tr>\n",
       "      <th>25</th>\n",
       "      <td>9992205060026174513001001710105762</td>\n",
       "      <td>6</td>\n",
       "    </tr>\n",
       "    <tr>\n",
       "      <th>26</th>\n",
       "      <td>9992205080157185551000300230416179</td>\n",
       "      <td>23</td>\n",
       "    </tr>\n",
       "    <tr>\n",
       "      <th>27</th>\n",
       "      <td>9992205160157183048000200200532422</td>\n",
       "      <td>14</td>\n",
       "    </tr>\n",
       "    <tr>\n",
       "      <th>28</th>\n",
       "      <td>9992205220157125845000300150451014</td>\n",
       "      <td>38</td>\n",
       "    </tr>\n",
       "    <tr>\n",
       "      <th>29</th>\n",
       "      <td>9992205310026190253001301790919912</td>\n",
       "      <td>11</td>\n",
       "    </tr>\n",
       "    <tr>\n",
       "      <th>30</th>\n",
       "      <td>9992206050015164648000802200676057</td>\n",
       "      <td>21</td>\n",
       "    </tr>\n",
       "    <tr>\n",
       "      <th>31</th>\n",
       "      <td>9992206070026184128001301880968365</td>\n",
       "      <td>7</td>\n",
       "    </tr>\n",
       "    <tr>\n",
       "      <th>32</th>\n",
       "      <td>9992207090026162842000501410016527</td>\n",
       "      <td>3</td>\n",
       "    </tr>\n",
       "    <tr>\n",
       "      <th>33</th>\n",
       "      <td>9992207090157094256000400010804539</td>\n",
       "      <td>20</td>\n",
       "    </tr>\n",
       "    <tr>\n",
       "      <th>34</th>\n",
       "      <td>9992207240157184115000400230904355</td>\n",
       "      <td>45</td>\n",
       "    </tr>\n",
       "  </tbody>\n",
       "</table>\n",
       "</div>"
      ],
      "text/plain": [
       "                                trx_id  item_id\n",
       "0   9992108110010161915000300190174979        4\n",
       "1   9992109100026164059002001100946057        1\n",
       "2   9992110100157185042000300170914675       31\n",
       "3   9992110310157182526000400210409688       28\n",
       "4   9992111270026191754001501720235408        8\n",
       "5   9992112010157174333000400210540378       17\n",
       "6   9992112110026165031001101810518043        9\n",
       "7   9992112150015171457001001330775993        3\n",
       "8   9992112180157171451000400170636375       27\n",
       "9   9992112300157173913000200030064231       32\n",
       "10  9992201070026183643001501790456677       17\n",
       "11  9992201120026182615001301860074158       25\n",
       "12  9992201240157115140000300010120338       10\n",
       "13  9992201300157182950000300170142263       18\n",
       "14  9992202030157153619000300200151664       20\n",
       "15  9992202080026174431002101870226219        7\n",
       "16  9992202090015150713000200500134583        1\n",
       "17  9992203100015164949000201400222715        2\n",
       "18  9992203110157163634000400010089826       17\n",
       "19  9992203220157172710000200170334267       28\n",
       "20  9992204030157135543000200210379457       17\n",
       "21  9992204040026210309002401490012834        3\n",
       "22  9992204130157143638000300170335874       14\n",
       "23  9992204150015195535000200210360092        1\n",
       "24  9992204210157135242000500210509897        8\n",
       "25  9992205060026174513001001710105762        6\n",
       "26  9992205080157185551000300230416179       23\n",
       "27  9992205160157183048000200200532422       14\n",
       "28  9992205220157125845000300150451014       38\n",
       "29  9992205310026190253001301790919912       11\n",
       "30  9992206050015164648000802200676057       21\n",
       "31  9992206070026184128001301880968365        7\n",
       "32  9992207090026162842000501410016527        3\n",
       "33  9992207090157094256000400010804539       20\n",
       "34  9992207240157184115000400230904355       45"
      ]
     },
     "execution_count": 7,
     "metadata": {},
     "output_type": "execute_result"
    }
   ],
   "source": [
    "## nb articles / trip\n",
    "## chaque trx => count des items\n",
    "\n",
    "df.groupby('trx_id')['item_id'].size().reset_index()"
   ]
  },
  {
   "cell_type": "code",
   "execution_count": 8,
   "metadata": {},
   "outputs": [
    {
     "data": {
      "text/html": [
       "<div>\n",
       "<style scoped>\n",
       "    .dataframe tbody tr th:only-of-type {\n",
       "        vertical-align: middle;\n",
       "    }\n",
       "\n",
       "    .dataframe tbody tr th {\n",
       "        vertical-align: top;\n",
       "    }\n",
       "\n",
       "    .dataframe thead th {\n",
       "        text-align: right;\n",
       "    }\n",
       "</style>\n",
       "<table border=\"1\" class=\"dataframe\">\n",
       "  <thead>\n",
       "    <tr style=\"text-align: right;\">\n",
       "      <th></th>\n",
       "      <th>item_qty</th>\n",
       "      <th>item_price</th>\n",
       "      <th>item_name</th>\n",
       "      <th>item_id</th>\n",
       "      <th>item_category</th>\n",
       "      <th>trx_id</th>\n",
       "      <th>trx_date</th>\n",
       "      <th>trx_total_price</th>\n",
       "      <th>trx_discount</th>\n",
       "    </tr>\n",
       "  </thead>\n",
       "  <tbody>\n",
       "    <tr>\n",
       "      <th>0</th>\n",
       "      <td>1</td>\n",
       "      <td>19.95</td>\n",
       "      <td>FARFALLE BIOITALIA 500G</td>\n",
       "      <td>350061</td>\n",
       "      <td>PATES FECULENTS</td>\n",
       "      <td>9992207240157184115000400230904355</td>\n",
       "      <td>2022-07-24 21:42:37</td>\n",
       "      <td>855.85</td>\n",
       "      <td>0.0</td>\n",
       "    </tr>\n",
       "  </tbody>\n",
       "</table>\n",
       "</div>"
      ],
      "text/plain": [
       "   item_qty  item_price                item_name item_id    item_category  \\\n",
       "0         1       19.95  FARFALLE BIOITALIA 500G  350061  PATES FECULENTS   \n",
       "\n",
       "                               trx_id            trx_date  trx_total_price  \\\n",
       "0  9992207240157184115000400230904355 2022-07-24 21:42:37           855.85   \n",
       "\n",
       "   trx_discount  \n",
       "0           0.0  "
      ]
     },
     "execution_count": 8,
     "metadata": {},
     "output_type": "execute_result"
    }
   ],
   "source": [
    "df.head(1)"
   ]
  },
  {
   "cell_type": "code",
   "execution_count": 9,
   "metadata": {},
   "outputs": [
    {
     "data": {
      "text/plain": [
       "datetime.date(2022, 8, 1)"
      ]
     },
     "execution_count": 9,
     "metadata": {},
     "output_type": "execute_result"
    }
   ],
   "source": [
    "REF_DATE"
   ]
  },
  {
   "cell_type": "code",
   "execution_count": 10,
   "metadata": {},
   "outputs": [],
   "source": [
    "import math\n",
    "\n",
    "from datetime import timedelta\n",
    "\n",
    "## monthly trip amount (intervals de 30)\n",
    "nb_weeks = round(trx_spread / 7)\n",
    "nb_months = round(trx_spread / 30.5)\n",
    "\n",
    "## fx get_monthly_amount(month = )\n",
    "\n",
    "def getMonthlyAmount(month):\n",
    "    w_idx = month\n",
    "    w_name = \"MOIS_M_\" + str(w_idx)\n",
    "    w_end = REF_DATE - timedelta(days=(28*w_idx))\n",
    "    w_start = w_end - timedelta(days=28)\n",
    "    month_df = df.loc[(df['trx_date'].dt.date >= w_start) & (df['trx_date'].dt.date <= w_end)]\n",
    "    ## actual spending\n",
    "    w_total_spend = month_df.drop_duplicates(subset=['trx_id'])[\"trx_total_price\"].sum()\n",
    "    w_nb_trx = month_df.drop_duplicates(subset=['trx_id'])['trx_id'].nunique()\n",
    "\n",
    "    ## debug\n",
    "    ##print(f\"Month {w_idx}, {w_name} // start @ {w_start} // ending @ {w_end}\")\n",
    "    ##print(f\"total spending during this time window : {w_total_spend}, accounting for {w_nb_trx} transactions\")\n",
    "    ## check\n",
    "    ##print(month_df['trx_date'].min())\n",
    "    ##print(month_df['trx_date'].max())\n",
    "    ##print(\"=\"*40)\n",
    "    ##print(month_df['trx_date'].dt.date.value_counts())\n",
    "\n",
    "    return np.array([w_total_spend, w_nb_trx], dtype=np.float64)"
   ]
  },
  {
   "cell_type": "code",
   "execution_count": 39,
   "metadata": {},
   "outputs": [
    {
     "name": "stdout",
     "output_type": "stream",
     "text": [
      "========================================\n",
      "{'mois': ['M_0', 'M_1', 'M_2', 'M_3', 'M_4', 'M_5', 'M_6', 'M_7', 'M_8', 'M_9', 'M_10', 'M_11'], 'nb_trips': [3.0, 1.0, 4.0, 5.0, 3.0, 2.0, 5.0, 3.0, 5.0, 1.0, 1.0, 1.0], 'sum_amount': [1273.85, 141.25, 2634.54, 1171.83, 1952.51, 362.06, 1031.21, 1102.19, 1253.26, 466.86, 513.0, 5.0]}\n"
     ]
    }
   ],
   "source": [
    "## loop over month\n",
    "\n",
    "monthly_spend_dict = {\"mois\":[],\"nb_trips\":[],\"sum_amount\":[]}\n",
    "\n",
    "for m in range(nb_months + 1):\n",
    "    m_amount, m_nb_trips = getMonthlyAmount(month = m)\n",
    "    monthly_spend_dict[\"mois\"].append(\"M_\"+str(m))\n",
    "    monthly_spend_dict[\"nb_trips\"].append(m_nb_trips)\n",
    "    monthly_spend_dict[\"sum_amount\"].append(m_amount)\n",
    "\n",
    "print(\"=\"*40)\n",
    "print(monthly_spend_dict)   "
   ]
  },
  {
   "cell_type": "code",
   "execution_count": 56,
   "metadata": {},
   "outputs": [
    {
     "data": {
      "text/html": [
       "<div>\n",
       "<style scoped>\n",
       "    .dataframe tbody tr th:only-of-type {\n",
       "        vertical-align: middle;\n",
       "    }\n",
       "\n",
       "    .dataframe tbody tr th {\n",
       "        vertical-align: top;\n",
       "    }\n",
       "\n",
       "    .dataframe thead th {\n",
       "        text-align: right;\n",
       "    }\n",
       "</style>\n",
       "<table border=\"1\" class=\"dataframe\">\n",
       "  <thead>\n",
       "    <tr style=\"text-align: right;\">\n",
       "      <th></th>\n",
       "      <th>mois</th>\n",
       "      <th>nb_trips</th>\n",
       "      <th>sum_amount</th>\n",
       "      <th>panier_moy</th>\n",
       "    </tr>\n",
       "  </thead>\n",
       "  <tbody>\n",
       "    <tr>\n",
       "      <th>0</th>\n",
       "      <td>M_0</td>\n",
       "      <td>3.0</td>\n",
       "      <td>1273.85</td>\n",
       "      <td>424.616667</td>\n",
       "    </tr>\n",
       "    <tr>\n",
       "      <th>1</th>\n",
       "      <td>M_1</td>\n",
       "      <td>1.0</td>\n",
       "      <td>141.25</td>\n",
       "      <td>141.250000</td>\n",
       "    </tr>\n",
       "    <tr>\n",
       "      <th>2</th>\n",
       "      <td>M_2</td>\n",
       "      <td>4.0</td>\n",
       "      <td>2634.54</td>\n",
       "      <td>658.635000</td>\n",
       "    </tr>\n",
       "    <tr>\n",
       "      <th>3</th>\n",
       "      <td>M_3</td>\n",
       "      <td>5.0</td>\n",
       "      <td>1171.83</td>\n",
       "      <td>234.366000</td>\n",
       "    </tr>\n",
       "    <tr>\n",
       "      <th>4</th>\n",
       "      <td>M_4</td>\n",
       "      <td>3.0</td>\n",
       "      <td>1952.51</td>\n",
       "      <td>650.836667</td>\n",
       "    </tr>\n",
       "    <tr>\n",
       "      <th>5</th>\n",
       "      <td>M_5</td>\n",
       "      <td>2.0</td>\n",
       "      <td>362.06</td>\n",
       "      <td>181.030000</td>\n",
       "    </tr>\n",
       "    <tr>\n",
       "      <th>6</th>\n",
       "      <td>M_6</td>\n",
       "      <td>5.0</td>\n",
       "      <td>1031.21</td>\n",
       "      <td>206.242000</td>\n",
       "    </tr>\n",
       "    <tr>\n",
       "      <th>7</th>\n",
       "      <td>M_7</td>\n",
       "      <td>3.0</td>\n",
       "      <td>1102.19</td>\n",
       "      <td>367.396667</td>\n",
       "    </tr>\n",
       "    <tr>\n",
       "      <th>8</th>\n",
       "      <td>M_8</td>\n",
       "      <td>5.0</td>\n",
       "      <td>1253.26</td>\n",
       "      <td>250.652000</td>\n",
       "    </tr>\n",
       "    <tr>\n",
       "      <th>9</th>\n",
       "      <td>M_9</td>\n",
       "      <td>1.0</td>\n",
       "      <td>466.86</td>\n",
       "      <td>466.860000</td>\n",
       "    </tr>\n",
       "    <tr>\n",
       "      <th>10</th>\n",
       "      <td>M_10</td>\n",
       "      <td>1.0</td>\n",
       "      <td>513.00</td>\n",
       "      <td>513.000000</td>\n",
       "    </tr>\n",
       "    <tr>\n",
       "      <th>11</th>\n",
       "      <td>M_11</td>\n",
       "      <td>1.0</td>\n",
       "      <td>5.00</td>\n",
       "      <td>5.000000</td>\n",
       "    </tr>\n",
       "  </tbody>\n",
       "</table>\n",
       "</div>"
      ],
      "text/plain": [
       "    mois  nb_trips  sum_amount  panier_moy\n",
       "0    M_0       3.0     1273.85  424.616667\n",
       "1    M_1       1.0      141.25  141.250000\n",
       "2    M_2       4.0     2634.54  658.635000\n",
       "3    M_3       5.0     1171.83  234.366000\n",
       "4    M_4       3.0     1952.51  650.836667\n",
       "5    M_5       2.0      362.06  181.030000\n",
       "6    M_6       5.0     1031.21  206.242000\n",
       "7    M_7       3.0     1102.19  367.396667\n",
       "8    M_8       5.0     1253.26  250.652000\n",
       "9    M_9       1.0      466.86  466.860000\n",
       "10  M_10       1.0      513.00  513.000000\n",
       "11  M_11       1.0        5.00    5.000000"
      ]
     },
     "execution_count": 56,
     "metadata": {},
     "output_type": "execute_result"
    }
   ],
   "source": [
    "## DF from dict\n",
    "\n",
    "df_test = pd.DataFrame.from_dict(monthly_spend_dict)\n",
    "df_test['panier_moy'] = df_test['sum_amount'] / df_test['nb_trips']\n",
    "df_test.head(len(df_test))"
   ]
  },
  {
   "cell_type": "code",
   "execution_count": 60,
   "metadata": {},
   "outputs": [
    {
     "data": {
      "application/vnd.plotly.v1+json": {
       "config": {
        "plotlyServerURL": "https://plot.ly"
       },
       "data": [
        {
         "alignmentgroup": "True",
         "hovertemplate": "mois=%{x}<br>sum_amount=%{text}<extra></extra>",
         "legendgroup": "",
         "marker": {
          "color": "#636efa"
         },
         "name": "",
         "offsetgroup": "",
         "orientation": "v",
         "showlegend": false,
         "text": [
          1273.85,
          141.25,
          2634.54,
          1171.83,
          1952.51,
          362.06,
          1031.21,
          1102.19,
          1253.26,
          466.86,
          513,
          5
         ],
         "textposition": "auto",
         "type": "bar",
         "x": [
          "M_0",
          "M_1",
          "M_2",
          "M_3",
          "M_4",
          "M_5",
          "M_6",
          "M_7",
          "M_8",
          "M_9",
          "M_10",
          "M_11"
         ],
         "xaxis": "x",
         "y": [
          1273.85,
          141.25,
          2634.54,
          1171.83,
          1952.51,
          362.06,
          1031.21,
          1102.19,
          1253.26,
          466.86,
          513,
          5
         ],
         "yaxis": "y"
        }
       ],
       "layout": {
        "barmode": "relative",
        "legend": {
         "tracegroupgap": 0
        },
        "margin": {
         "t": 60
        },
        "template": {
         "data": {
          "bar": [
           {
            "error_x": {
             "color": "#2a3f5f"
            },
            "error_y": {
             "color": "#2a3f5f"
            },
            "marker": {
             "line": {
              "color": "#E5ECF6",
              "width": 0.5
             }
            },
            "type": "bar"
           }
          ],
          "barpolar": [
           {
            "marker": {
             "line": {
              "color": "#E5ECF6",
              "width": 0.5
             }
            },
            "type": "barpolar"
           }
          ],
          "carpet": [
           {
            "aaxis": {
             "endlinecolor": "#2a3f5f",
             "gridcolor": "white",
             "linecolor": "white",
             "minorgridcolor": "white",
             "startlinecolor": "#2a3f5f"
            },
            "baxis": {
             "endlinecolor": "#2a3f5f",
             "gridcolor": "white",
             "linecolor": "white",
             "minorgridcolor": "white",
             "startlinecolor": "#2a3f5f"
            },
            "type": "carpet"
           }
          ],
          "choropleth": [
           {
            "colorbar": {
             "outlinewidth": 0,
             "ticks": ""
            },
            "type": "choropleth"
           }
          ],
          "contour": [
           {
            "colorbar": {
             "outlinewidth": 0,
             "ticks": ""
            },
            "colorscale": [
             [
              0,
              "#0d0887"
             ],
             [
              0.1111111111111111,
              "#46039f"
             ],
             [
              0.2222222222222222,
              "#7201a8"
             ],
             [
              0.3333333333333333,
              "#9c179e"
             ],
             [
              0.4444444444444444,
              "#bd3786"
             ],
             [
              0.5555555555555556,
              "#d8576b"
             ],
             [
              0.6666666666666666,
              "#ed7953"
             ],
             [
              0.7777777777777778,
              "#fb9f3a"
             ],
             [
              0.8888888888888888,
              "#fdca26"
             ],
             [
              1,
              "#f0f921"
             ]
            ],
            "type": "contour"
           }
          ],
          "contourcarpet": [
           {
            "colorbar": {
             "outlinewidth": 0,
             "ticks": ""
            },
            "type": "contourcarpet"
           }
          ],
          "heatmap": [
           {
            "colorbar": {
             "outlinewidth": 0,
             "ticks": ""
            },
            "colorscale": [
             [
              0,
              "#0d0887"
             ],
             [
              0.1111111111111111,
              "#46039f"
             ],
             [
              0.2222222222222222,
              "#7201a8"
             ],
             [
              0.3333333333333333,
              "#9c179e"
             ],
             [
              0.4444444444444444,
              "#bd3786"
             ],
             [
              0.5555555555555556,
              "#d8576b"
             ],
             [
              0.6666666666666666,
              "#ed7953"
             ],
             [
              0.7777777777777778,
              "#fb9f3a"
             ],
             [
              0.8888888888888888,
              "#fdca26"
             ],
             [
              1,
              "#f0f921"
             ]
            ],
            "type": "heatmap"
           }
          ],
          "heatmapgl": [
           {
            "colorbar": {
             "outlinewidth": 0,
             "ticks": ""
            },
            "colorscale": [
             [
              0,
              "#0d0887"
             ],
             [
              0.1111111111111111,
              "#46039f"
             ],
             [
              0.2222222222222222,
              "#7201a8"
             ],
             [
              0.3333333333333333,
              "#9c179e"
             ],
             [
              0.4444444444444444,
              "#bd3786"
             ],
             [
              0.5555555555555556,
              "#d8576b"
             ],
             [
              0.6666666666666666,
              "#ed7953"
             ],
             [
              0.7777777777777778,
              "#fb9f3a"
             ],
             [
              0.8888888888888888,
              "#fdca26"
             ],
             [
              1,
              "#f0f921"
             ]
            ],
            "type": "heatmapgl"
           }
          ],
          "histogram": [
           {
            "marker": {
             "colorbar": {
              "outlinewidth": 0,
              "ticks": ""
             }
            },
            "type": "histogram"
           }
          ],
          "histogram2d": [
           {
            "colorbar": {
             "outlinewidth": 0,
             "ticks": ""
            },
            "colorscale": [
             [
              0,
              "#0d0887"
             ],
             [
              0.1111111111111111,
              "#46039f"
             ],
             [
              0.2222222222222222,
              "#7201a8"
             ],
             [
              0.3333333333333333,
              "#9c179e"
             ],
             [
              0.4444444444444444,
              "#bd3786"
             ],
             [
              0.5555555555555556,
              "#d8576b"
             ],
             [
              0.6666666666666666,
              "#ed7953"
             ],
             [
              0.7777777777777778,
              "#fb9f3a"
             ],
             [
              0.8888888888888888,
              "#fdca26"
             ],
             [
              1,
              "#f0f921"
             ]
            ],
            "type": "histogram2d"
           }
          ],
          "histogram2dcontour": [
           {
            "colorbar": {
             "outlinewidth": 0,
             "ticks": ""
            },
            "colorscale": [
             [
              0,
              "#0d0887"
             ],
             [
              0.1111111111111111,
              "#46039f"
             ],
             [
              0.2222222222222222,
              "#7201a8"
             ],
             [
              0.3333333333333333,
              "#9c179e"
             ],
             [
              0.4444444444444444,
              "#bd3786"
             ],
             [
              0.5555555555555556,
              "#d8576b"
             ],
             [
              0.6666666666666666,
              "#ed7953"
             ],
             [
              0.7777777777777778,
              "#fb9f3a"
             ],
             [
              0.8888888888888888,
              "#fdca26"
             ],
             [
              1,
              "#f0f921"
             ]
            ],
            "type": "histogram2dcontour"
           }
          ],
          "mesh3d": [
           {
            "colorbar": {
             "outlinewidth": 0,
             "ticks": ""
            },
            "type": "mesh3d"
           }
          ],
          "parcoords": [
           {
            "line": {
             "colorbar": {
              "outlinewidth": 0,
              "ticks": ""
             }
            },
            "type": "parcoords"
           }
          ],
          "pie": [
           {
            "automargin": true,
            "type": "pie"
           }
          ],
          "scatter": [
           {
            "marker": {
             "colorbar": {
              "outlinewidth": 0,
              "ticks": ""
             }
            },
            "type": "scatter"
           }
          ],
          "scatter3d": [
           {
            "line": {
             "colorbar": {
              "outlinewidth": 0,
              "ticks": ""
             }
            },
            "marker": {
             "colorbar": {
              "outlinewidth": 0,
              "ticks": ""
             }
            },
            "type": "scatter3d"
           }
          ],
          "scattercarpet": [
           {
            "marker": {
             "colorbar": {
              "outlinewidth": 0,
              "ticks": ""
             }
            },
            "type": "scattercarpet"
           }
          ],
          "scattergeo": [
           {
            "marker": {
             "colorbar": {
              "outlinewidth": 0,
              "ticks": ""
             }
            },
            "type": "scattergeo"
           }
          ],
          "scattergl": [
           {
            "marker": {
             "colorbar": {
              "outlinewidth": 0,
              "ticks": ""
             }
            },
            "type": "scattergl"
           }
          ],
          "scattermapbox": [
           {
            "marker": {
             "colorbar": {
              "outlinewidth": 0,
              "ticks": ""
             }
            },
            "type": "scattermapbox"
           }
          ],
          "scatterpolar": [
           {
            "marker": {
             "colorbar": {
              "outlinewidth": 0,
              "ticks": ""
             }
            },
            "type": "scatterpolar"
           }
          ],
          "scatterpolargl": [
           {
            "marker": {
             "colorbar": {
              "outlinewidth": 0,
              "ticks": ""
             }
            },
            "type": "scatterpolargl"
           }
          ],
          "scatterternary": [
           {
            "marker": {
             "colorbar": {
              "outlinewidth": 0,
              "ticks": ""
             }
            },
            "type": "scatterternary"
           }
          ],
          "surface": [
           {
            "colorbar": {
             "outlinewidth": 0,
             "ticks": ""
            },
            "colorscale": [
             [
              0,
              "#0d0887"
             ],
             [
              0.1111111111111111,
              "#46039f"
             ],
             [
              0.2222222222222222,
              "#7201a8"
             ],
             [
              0.3333333333333333,
              "#9c179e"
             ],
             [
              0.4444444444444444,
              "#bd3786"
             ],
             [
              0.5555555555555556,
              "#d8576b"
             ],
             [
              0.6666666666666666,
              "#ed7953"
             ],
             [
              0.7777777777777778,
              "#fb9f3a"
             ],
             [
              0.8888888888888888,
              "#fdca26"
             ],
             [
              1,
              "#f0f921"
             ]
            ],
            "type": "surface"
           }
          ],
          "table": [
           {
            "cells": {
             "fill": {
              "color": "#EBF0F8"
             },
             "line": {
              "color": "white"
             }
            },
            "header": {
             "fill": {
              "color": "#C8D4E3"
             },
             "line": {
              "color": "white"
             }
            },
            "type": "table"
           }
          ]
         },
         "layout": {
          "annotationdefaults": {
           "arrowcolor": "#2a3f5f",
           "arrowhead": 0,
           "arrowwidth": 1
          },
          "coloraxis": {
           "colorbar": {
            "outlinewidth": 0,
            "ticks": ""
           }
          },
          "colorscale": {
           "diverging": [
            [
             0,
             "#8e0152"
            ],
            [
             0.1,
             "#c51b7d"
            ],
            [
             0.2,
             "#de77ae"
            ],
            [
             0.3,
             "#f1b6da"
            ],
            [
             0.4,
             "#fde0ef"
            ],
            [
             0.5,
             "#f7f7f7"
            ],
            [
             0.6,
             "#e6f5d0"
            ],
            [
             0.7,
             "#b8e186"
            ],
            [
             0.8,
             "#7fbc41"
            ],
            [
             0.9,
             "#4d9221"
            ],
            [
             1,
             "#276419"
            ]
           ],
           "sequential": [
            [
             0,
             "#0d0887"
            ],
            [
             0.1111111111111111,
             "#46039f"
            ],
            [
             0.2222222222222222,
             "#7201a8"
            ],
            [
             0.3333333333333333,
             "#9c179e"
            ],
            [
             0.4444444444444444,
             "#bd3786"
            ],
            [
             0.5555555555555556,
             "#d8576b"
            ],
            [
             0.6666666666666666,
             "#ed7953"
            ],
            [
             0.7777777777777778,
             "#fb9f3a"
            ],
            [
             0.8888888888888888,
             "#fdca26"
            ],
            [
             1,
             "#f0f921"
            ]
           ],
           "sequentialminus": [
            [
             0,
             "#0d0887"
            ],
            [
             0.1111111111111111,
             "#46039f"
            ],
            [
             0.2222222222222222,
             "#7201a8"
            ],
            [
             0.3333333333333333,
             "#9c179e"
            ],
            [
             0.4444444444444444,
             "#bd3786"
            ],
            [
             0.5555555555555556,
             "#d8576b"
            ],
            [
             0.6666666666666666,
             "#ed7953"
            ],
            [
             0.7777777777777778,
             "#fb9f3a"
            ],
            [
             0.8888888888888888,
             "#fdca26"
            ],
            [
             1,
             "#f0f921"
            ]
           ]
          },
          "colorway": [
           "#636efa",
           "#EF553B",
           "#00cc96",
           "#ab63fa",
           "#FFA15A",
           "#19d3f3",
           "#FF6692",
           "#B6E880",
           "#FF97FF",
           "#FECB52"
          ],
          "font": {
           "color": "#2a3f5f"
          },
          "geo": {
           "bgcolor": "white",
           "lakecolor": "white",
           "landcolor": "#E5ECF6",
           "showlakes": true,
           "showland": true,
           "subunitcolor": "white"
          },
          "hoverlabel": {
           "align": "left"
          },
          "hovermode": "closest",
          "mapbox": {
           "style": "light"
          },
          "paper_bgcolor": "white",
          "plot_bgcolor": "#E5ECF6",
          "polar": {
           "angularaxis": {
            "gridcolor": "white",
            "linecolor": "white",
            "ticks": ""
           },
           "bgcolor": "#E5ECF6",
           "radialaxis": {
            "gridcolor": "white",
            "linecolor": "white",
            "ticks": ""
           }
          },
          "scene": {
           "xaxis": {
            "backgroundcolor": "#E5ECF6",
            "gridcolor": "white",
            "gridwidth": 2,
            "linecolor": "white",
            "showbackground": true,
            "ticks": "",
            "zerolinecolor": "white"
           },
           "yaxis": {
            "backgroundcolor": "#E5ECF6",
            "gridcolor": "white",
            "gridwidth": 2,
            "linecolor": "white",
            "showbackground": true,
            "ticks": "",
            "zerolinecolor": "white"
           },
           "zaxis": {
            "backgroundcolor": "#E5ECF6",
            "gridcolor": "white",
            "gridwidth": 2,
            "linecolor": "white",
            "showbackground": true,
            "ticks": "",
            "zerolinecolor": "white"
           }
          },
          "shapedefaults": {
           "line": {
            "color": "#2a3f5f"
           }
          },
          "ternary": {
           "aaxis": {
            "gridcolor": "white",
            "linecolor": "white",
            "ticks": ""
           },
           "baxis": {
            "gridcolor": "white",
            "linecolor": "white",
            "ticks": ""
           },
           "bgcolor": "#E5ECF6",
           "caxis": {
            "gridcolor": "white",
            "linecolor": "white",
            "ticks": ""
           }
          },
          "title": {
           "x": 0.05
          },
          "xaxis": {
           "automargin": true,
           "gridcolor": "white",
           "linecolor": "white",
           "ticks": "",
           "title": {
            "standoff": 15
           },
           "zerolinecolor": "white",
           "zerolinewidth": 2
          },
          "yaxis": {
           "automargin": true,
           "gridcolor": "white",
           "linecolor": "white",
           "ticks": "",
           "title": {
            "standoff": 15
           },
           "zerolinecolor": "white",
           "zerolinewidth": 2
          }
         }
        },
        "xaxis": {
         "anchor": "y",
         "domain": [
          0,
          1
         ],
         "title": {
          "text": "mois"
         }
        },
        "yaxis": {
         "anchor": "x",
         "domain": [
          0,
          1
         ],
         "title": {
          "text": "sum_amount"
         }
        }
       }
      }
     },
     "metadata": {},
     "output_type": "display_data"
    }
   ],
   "source": [
    "import plotly.express as px\n",
    "\n",
    "fig = px.bar(df_test, x=\"mois\", y=\"sum_amount\", text = \"sum_amount\")\n",
    "fig.show()"
   ]
  },
  {
   "cell_type": "code",
   "execution_count": null,
   "metadata": {},
   "outputs": [],
   "source": [
    "### end of stats"
   ]
  },
  {
   "cell_type": "code",
   "execution_count": 16,
   "metadata": {},
   "outputs": [
    {
     "data": {
      "text/html": [
       "<div>\n",
       "<style scoped>\n",
       "    .dataframe tbody tr th:only-of-type {\n",
       "        vertical-align: middle;\n",
       "    }\n",
       "\n",
       "    .dataframe tbody tr th {\n",
       "        vertical-align: top;\n",
       "    }\n",
       "\n",
       "    .dataframe thead th {\n",
       "        text-align: right;\n",
       "    }\n",
       "</style>\n",
       "<table border=\"1\" class=\"dataframe\">\n",
       "  <thead>\n",
       "    <tr style=\"text-align: right;\">\n",
       "      <th></th>\n",
       "      <th>item_qty</th>\n",
       "      <th>item_price</th>\n",
       "      <th>trx_total_price</th>\n",
       "      <th>trx_discount</th>\n",
       "    </tr>\n",
       "  </thead>\n",
       "  <tbody>\n",
       "    <tr>\n",
       "      <th>count</th>\n",
       "      <td>536.000000</td>\n",
       "      <td>536.000000</td>\n",
       "      <td>536.000000</td>\n",
       "      <td>536.000000</td>\n",
       "    </tr>\n",
       "    <tr>\n",
       "      <th>mean</th>\n",
       "      <td>1.083955</td>\n",
       "      <td>22.190131</td>\n",
       "      <td>462.159627</td>\n",
       "      <td>0.023507</td>\n",
       "    </tr>\n",
       "    <tr>\n",
       "      <th>std</th>\n",
       "      <td>0.495252</td>\n",
       "      <td>41.750615</td>\n",
       "      <td>264.497099</td>\n",
       "      <td>0.143675</td>\n",
       "    </tr>\n",
       "    <tr>\n",
       "      <th>min</th>\n",
       "      <td>1.000000</td>\n",
       "      <td>0.900000</td>\n",
       "      <td>5.000000</td>\n",
       "      <td>0.000000</td>\n",
       "    </tr>\n",
       "    <tr>\n",
       "      <th>5%</th>\n",
       "      <td>1.000000</td>\n",
       "      <td>1.000000</td>\n",
       "      <td>136.500000</td>\n",
       "      <td>0.000000</td>\n",
       "    </tr>\n",
       "    <tr>\n",
       "      <th>10%</th>\n",
       "      <td>1.000000</td>\n",
       "      <td>2.000000</td>\n",
       "      <td>158.075000</td>\n",
       "      <td>0.000000</td>\n",
       "    </tr>\n",
       "    <tr>\n",
       "      <th>25%</th>\n",
       "      <td>1.000000</td>\n",
       "      <td>5.567500</td>\n",
       "      <td>264.060000</td>\n",
       "      <td>0.000000</td>\n",
       "    </tr>\n",
       "    <tr>\n",
       "      <th>50%</th>\n",
       "      <td>1.000000</td>\n",
       "      <td>14.950000</td>\n",
       "      <td>422.990000</td>\n",
       "      <td>0.000000</td>\n",
       "    </tr>\n",
       "    <tr>\n",
       "      <th>75%</th>\n",
       "      <td>1.000000</td>\n",
       "      <td>26.187500</td>\n",
       "      <td>545.520000</td>\n",
       "      <td>0.000000</td>\n",
       "    </tr>\n",
       "    <tr>\n",
       "      <th>90%</th>\n",
       "      <td>1.000000</td>\n",
       "      <td>39.075000</td>\n",
       "      <td>855.850000</td>\n",
       "      <td>0.000000</td>\n",
       "    </tr>\n",
       "    <tr>\n",
       "      <th>95%</th>\n",
       "      <td>1.000000</td>\n",
       "      <td>53.950000</td>\n",
       "      <td>855.850000</td>\n",
       "      <td>0.000000</td>\n",
       "    </tr>\n",
       "    <tr>\n",
       "      <th>99%</th>\n",
       "      <td>4.000000</td>\n",
       "      <td>169.085000</td>\n",
       "      <td>1170.050000</td>\n",
       "      <td>0.900000</td>\n",
       "    </tr>\n",
       "    <tr>\n",
       "      <th>max</th>\n",
       "      <td>5.000000</td>\n",
       "      <td>699.000000</td>\n",
       "      <td>1170.050000</td>\n",
       "      <td>0.900000</td>\n",
       "    </tr>\n",
       "  </tbody>\n",
       "</table>\n",
       "</div>"
      ],
      "text/plain": [
       "         item_qty  item_price  trx_total_price  trx_discount\n",
       "count  536.000000  536.000000       536.000000    536.000000\n",
       "mean     1.083955   22.190131       462.159627      0.023507\n",
       "std      0.495252   41.750615       264.497099      0.143675\n",
       "min      1.000000    0.900000         5.000000      0.000000\n",
       "5%       1.000000    1.000000       136.500000      0.000000\n",
       "10%      1.000000    2.000000       158.075000      0.000000\n",
       "25%      1.000000    5.567500       264.060000      0.000000\n",
       "50%      1.000000   14.950000       422.990000      0.000000\n",
       "75%      1.000000   26.187500       545.520000      0.000000\n",
       "90%      1.000000   39.075000       855.850000      0.000000\n",
       "95%      1.000000   53.950000       855.850000      0.000000\n",
       "99%      4.000000  169.085000      1170.050000      0.900000\n",
       "max      5.000000  699.000000      1170.050000      0.900000"
      ]
     },
     "execution_count": 16,
     "metadata": {},
     "output_type": "execute_result"
    }
   ],
   "source": [
    "df.describe(percentiles=[0.05,0.1,0.25,0.5,0.75,0.9,0.95,0.99])"
   ]
  },
  {
   "cell_type": "code",
   "execution_count": 20,
   "metadata": {},
   "outputs": [
    {
     "name": "stdout",
     "output_type": "stream",
     "text": [
      "^C\n",
      "Note: you may need to restart the kernel to use updated packages.\n"
     ]
    }
   ],
   "source": [
    "%pip install plotly"
   ]
  },
  {
   "cell_type": "code",
   "execution_count": 32,
   "metadata": {},
   "outputs": [],
   "source": [
    "pd.set_option(\"plotting.backend\", \"plotly\")"
   ]
  },
  {
   "cell_type": "code",
   "execution_count": 19,
   "metadata": {},
   "outputs": [
    {
     "data": {
      "application/vnd.plotly.v1+json": {
       "config": {
        "plotlyServerURL": "https://plot.ly"
       },
       "data": [
        {
         "alignmentgroup": "True",
         "bingroup": "x",
         "hovertemplate": "variable=item_price<br>value=%{x}<br>count=%{y}<extra></extra>",
         "legendgroup": "item_price",
         "marker": {
          "color": "#636efa"
         },
         "name": "item_price",
         "offsetgroup": "item_price",
         "orientation": "v",
         "showlegend": true,
         "type": "histogram",
         "x": [
          19.95,
          9.38,
          15.98,
          5.01,
          4.53,
          7.31,
          17.11,
          28.5,
          5.11,
          39.02,
          31.8,
          14.95,
          17.95,
          18.95,
          30.95,
          30.95,
          36.95,
          25.5,
          32.95,
          15.1,
          9.9,
          19.5,
          5.95,
          5.95,
          15.95,
          5.5,
          2.3,
          4.95,
          4.95,
          28.5,
          35.4,
          25.95,
          18.95,
          13.5,
          13.5,
          20.15,
          16.95,
          24.95,
          19.5,
          14.95,
          36.95,
          22.95,
          17.7,
          17.7,
          21.95,
          67.43,
          49.89,
          19.95,
          35.95,
          51.95,
          3.9,
          3.9,
          9.9,
          1.03,
          5.59,
          8.17,
          3.23,
          7.36,
          5.5,
          18.1,
          9.95,
          9.95,
          10.5,
          10.5,
          11.95,
          39.95,
          13.5,
          15.95,
          2.5,
          2,
          52.85,
          29.95,
          21.95,
          16,
          16,
          65,
          65,
          26.9,
          17.95,
          25.5,
          179.9,
          199,
          7.5,
          12.95,
          22.9,
          7,
          14.95,
          10.95,
          35.9,
          4.9,
          399,
          9.9,
          9.9,
          39.95,
          7.5,
          7.5,
          26.95,
          32.95,
          30.95,
          14.95,
          21.5,
          37.5,
          16.95,
          14.95,
          19.95,
          57.95,
          28.5,
          9,
          9,
          47.89,
          10.5,
          37.62,
          11.5,
          16.68,
          7.7,
          29.95,
          40.9,
          15.95,
          25.95,
          1.95,
          1.95,
          1.95,
          1.95,
          6.9,
          72.65,
          41.35,
          53.95,
          30.5,
          15.5,
          18.2,
          7.15,
          5.95,
          22.95,
          11.95,
          16.95,
          6.95,
          5.95,
          17.95,
          17.95,
          128.6,
          28.25,
          4.95,
          4.95,
          13.5,
          13.65,
          2,
          5,
          42.81,
          25.19,
          19.95,
          17.5,
          53.95,
          24.95,
          44,
          16.95,
          6.95,
          13.5,
          46,
          25.5,
          29.95,
          13.95,
          19.95,
          14.95,
          16.5,
          49.95,
          24.95,
          15.5,
          35.3,
          32.95,
          20.5,
          17.5,
          4.75,
          35,
          2.3,
          53.7,
          17,
          18.95,
          20.15,
          20.95,
          43.95,
          27.95,
          13.65,
          5,
          5,
          4.75,
          5.95,
          65.25,
          73.95,
          4.5,
          1,
          5,
          1,
          39.95,
          13.65,
          2,
          13.65,
          149,
          1,
          4.17,
          4.31,
          28.9,
          11.6,
          11.6,
          35.3,
          17.5,
          11.95,
          11.95,
          9.85,
          11.1,
          8.95,
          27.95,
          699,
          249,
          199,
          3.9,
          17.33,
          35.34,
          23.5,
          23.5,
          119.95,
          10.3,
          10.3,
          28.8,
          17.5,
          4.75,
          4.75,
          14.45,
          6.6,
          19.95,
          10.95,
          18.95,
          1,
          2,
          8.14,
          19.95,
          32.6,
          29.9,
          16.95,
          17.95,
          16.95,
          29.95,
          13.1,
          32.95,
          38.95,
          24.45,
          1,
          1,
          1.95,
          1.95,
          1.95,
          3.5,
          3.5,
          6.9,
          6.9,
          28.9,
          4.95,
          12.15,
          30.25,
          24.4,
          3.2,
          3.2,
          32.73,
          25.65,
          27.93,
          16.95,
          8.5,
          16.1,
          39.95,
          4.5,
          17.95,
          33.95,
          3,
          3,
          3,
          10.95,
          13.5,
          39,
          59,
          139,
          7.9,
          15,
          14.5,
          15.5,
          15.5,
          15.5,
          33.5,
          23.5,
          37,
          2,
          15.18,
          39.13,
          49.95,
          5.95,
          17.1,
          10.5,
          13.9,
          10.4,
          9.3,
          8,
          3.4,
          3.4,
          3.4,
          4.95,
          4.95,
          8,
          13.95,
          9,
          28.73,
          11.66,
          29.64,
          27.95,
          19,
          1,
          1,
          1,
          1,
          4.75,
          6.9,
          6.9,
          4.95,
          4.95,
          26.95,
          17.95,
          13.65,
          46.77,
          36.5,
          16.95,
          6.95,
          16.95,
          11.95,
          4.75,
          10.95,
          13.65,
          79.95,
          10.9,
          10.9,
          1,
          15.23,
          22.49,
          10.5,
          6.95,
          15.5,
          17.95,
          16.95,
          6.95,
          19.9,
          2.5,
          2.5,
          2.5,
          2.5,
          10.5,
          4.8,
          4.8,
          23.95,
          10.75,
          8.95,
          25.95,
          19.95,
          19.95,
          13.95,
          2,
          24.95,
          24.95,
          13,
          32.95,
          14.95,
          3.75,
          3.75,
          17.95,
          14.5,
          16.95,
          10.95,
          5.2,
          5.2,
          33.95,
          22.9,
          4.5,
          3.95,
          10.95,
          15.9,
          2.95,
          22.5,
          35.57,
          108.95,
          37.95,
          39.9,
          6.9,
          31.25,
          4.5,
          6.5,
          14.65,
          1,
          3.9,
          3.9,
          3.9,
          2.8,
          5.5,
          5.5,
          10.7,
          18.7,
          15.95,
          16.95,
          43.95,
          2.8,
          4.95,
          4.95,
          18.2,
          31.95,
          2,
          16.38,
          27.93,
          24.73,
          23.5,
          15.5,
          53.5,
          13.1,
          1,
          1,
          1,
          1,
          1.95,
          1.95,
          1.95,
          4.75,
          4.75,
          8.9,
          11.5,
          1.95,
          12.95,
          11.95,
          33.95,
          33.95,
          33.95,
          35.95,
          79.95,
          4.95,
          89.95,
          5.95,
          2,
          32.95,
          12.95,
          7.95,
          11.95,
          4.95,
          31.5,
          31.5,
          20.5,
          2,
          16.1,
          27.93,
          23.89,
          12.4,
          12.4,
          14.95,
          16.95,
          32.95,
          30.65,
          1,
          24.95,
          8.5,
          17.95,
          17.95,
          37.3,
          90.95,
          1,
          4.8,
          4.75,
          34.5,
          4.95,
          55.5,
          15.5,
          15.5,
          10.5,
          6.95,
          25.95,
          48.1,
          33.4,
          35.96,
          16.95,
          6.9,
          34.5,
          46.95,
          9.9,
          5.95,
          1,
          1,
          1,
          1,
          1,
          1,
          5,
          5,
          9.4,
          17.7,
          35.3,
          13.65,
          24.95,
          9.5,
          11.95,
          46.4,
          69.95,
          16.8,
          33.75,
          6.9,
          27.95,
          0.9,
          0.9,
          0.9,
          0.9,
          0.9,
          0.9,
          28.5,
          11.5,
          14.4,
          12.3,
          25.25,
          14.45,
          28.95,
          17.7,
          75.7,
          7.1,
          13.35,
          17.95,
          19.95,
          15.95,
          30.25,
          12.95,
          1.5,
          1.5,
          1.5,
          1.5,
          5,
          19.95,
          26.9,
          14.5,
          49.95
         ],
         "xaxis": "x",
         "yaxis": "y"
        }
       ],
       "layout": {
        "barmode": "relative",
        "legend": {
         "title": {
          "text": "variable"
         },
         "tracegroupgap": 0
        },
        "margin": {
         "t": 60
        },
        "template": {
         "data": {
          "bar": [
           {
            "error_x": {
             "color": "#2a3f5f"
            },
            "error_y": {
             "color": "#2a3f5f"
            },
            "marker": {
             "line": {
              "color": "#E5ECF6",
              "width": 0.5
             }
            },
            "type": "bar"
           }
          ],
          "barpolar": [
           {
            "marker": {
             "line": {
              "color": "#E5ECF6",
              "width": 0.5
             }
            },
            "type": "barpolar"
           }
          ],
          "carpet": [
           {
            "aaxis": {
             "endlinecolor": "#2a3f5f",
             "gridcolor": "white",
             "linecolor": "white",
             "minorgridcolor": "white",
             "startlinecolor": "#2a3f5f"
            },
            "baxis": {
             "endlinecolor": "#2a3f5f",
             "gridcolor": "white",
             "linecolor": "white",
             "minorgridcolor": "white",
             "startlinecolor": "#2a3f5f"
            },
            "type": "carpet"
           }
          ],
          "choropleth": [
           {
            "colorbar": {
             "outlinewidth": 0,
             "ticks": ""
            },
            "type": "choropleth"
           }
          ],
          "contour": [
           {
            "colorbar": {
             "outlinewidth": 0,
             "ticks": ""
            },
            "colorscale": [
             [
              0,
              "#0d0887"
             ],
             [
              0.1111111111111111,
              "#46039f"
             ],
             [
              0.2222222222222222,
              "#7201a8"
             ],
             [
              0.3333333333333333,
              "#9c179e"
             ],
             [
              0.4444444444444444,
              "#bd3786"
             ],
             [
              0.5555555555555556,
              "#d8576b"
             ],
             [
              0.6666666666666666,
              "#ed7953"
             ],
             [
              0.7777777777777778,
              "#fb9f3a"
             ],
             [
              0.8888888888888888,
              "#fdca26"
             ],
             [
              1,
              "#f0f921"
             ]
            ],
            "type": "contour"
           }
          ],
          "contourcarpet": [
           {
            "colorbar": {
             "outlinewidth": 0,
             "ticks": ""
            },
            "type": "contourcarpet"
           }
          ],
          "heatmap": [
           {
            "colorbar": {
             "outlinewidth": 0,
             "ticks": ""
            },
            "colorscale": [
             [
              0,
              "#0d0887"
             ],
             [
              0.1111111111111111,
              "#46039f"
             ],
             [
              0.2222222222222222,
              "#7201a8"
             ],
             [
              0.3333333333333333,
              "#9c179e"
             ],
             [
              0.4444444444444444,
              "#bd3786"
             ],
             [
              0.5555555555555556,
              "#d8576b"
             ],
             [
              0.6666666666666666,
              "#ed7953"
             ],
             [
              0.7777777777777778,
              "#fb9f3a"
             ],
             [
              0.8888888888888888,
              "#fdca26"
             ],
             [
              1,
              "#f0f921"
             ]
            ],
            "type": "heatmap"
           }
          ],
          "heatmapgl": [
           {
            "colorbar": {
             "outlinewidth": 0,
             "ticks": ""
            },
            "colorscale": [
             [
              0,
              "#0d0887"
             ],
             [
              0.1111111111111111,
              "#46039f"
             ],
             [
              0.2222222222222222,
              "#7201a8"
             ],
             [
              0.3333333333333333,
              "#9c179e"
             ],
             [
              0.4444444444444444,
              "#bd3786"
             ],
             [
              0.5555555555555556,
              "#d8576b"
             ],
             [
              0.6666666666666666,
              "#ed7953"
             ],
             [
              0.7777777777777778,
              "#fb9f3a"
             ],
             [
              0.8888888888888888,
              "#fdca26"
             ],
             [
              1,
              "#f0f921"
             ]
            ],
            "type": "heatmapgl"
           }
          ],
          "histogram": [
           {
            "marker": {
             "colorbar": {
              "outlinewidth": 0,
              "ticks": ""
             }
            },
            "type": "histogram"
           }
          ],
          "histogram2d": [
           {
            "colorbar": {
             "outlinewidth": 0,
             "ticks": ""
            },
            "colorscale": [
             [
              0,
              "#0d0887"
             ],
             [
              0.1111111111111111,
              "#46039f"
             ],
             [
              0.2222222222222222,
              "#7201a8"
             ],
             [
              0.3333333333333333,
              "#9c179e"
             ],
             [
              0.4444444444444444,
              "#bd3786"
             ],
             [
              0.5555555555555556,
              "#d8576b"
             ],
             [
              0.6666666666666666,
              "#ed7953"
             ],
             [
              0.7777777777777778,
              "#fb9f3a"
             ],
             [
              0.8888888888888888,
              "#fdca26"
             ],
             [
              1,
              "#f0f921"
             ]
            ],
            "type": "histogram2d"
           }
          ],
          "histogram2dcontour": [
           {
            "colorbar": {
             "outlinewidth": 0,
             "ticks": ""
            },
            "colorscale": [
             [
              0,
              "#0d0887"
             ],
             [
              0.1111111111111111,
              "#46039f"
             ],
             [
              0.2222222222222222,
              "#7201a8"
             ],
             [
              0.3333333333333333,
              "#9c179e"
             ],
             [
              0.4444444444444444,
              "#bd3786"
             ],
             [
              0.5555555555555556,
              "#d8576b"
             ],
             [
              0.6666666666666666,
              "#ed7953"
             ],
             [
              0.7777777777777778,
              "#fb9f3a"
             ],
             [
              0.8888888888888888,
              "#fdca26"
             ],
             [
              1,
              "#f0f921"
             ]
            ],
            "type": "histogram2dcontour"
           }
          ],
          "mesh3d": [
           {
            "colorbar": {
             "outlinewidth": 0,
             "ticks": ""
            },
            "type": "mesh3d"
           }
          ],
          "parcoords": [
           {
            "line": {
             "colorbar": {
              "outlinewidth": 0,
              "ticks": ""
             }
            },
            "type": "parcoords"
           }
          ],
          "pie": [
           {
            "automargin": true,
            "type": "pie"
           }
          ],
          "scatter": [
           {
            "marker": {
             "colorbar": {
              "outlinewidth": 0,
              "ticks": ""
             }
            },
            "type": "scatter"
           }
          ],
          "scatter3d": [
           {
            "line": {
             "colorbar": {
              "outlinewidth": 0,
              "ticks": ""
             }
            },
            "marker": {
             "colorbar": {
              "outlinewidth": 0,
              "ticks": ""
             }
            },
            "type": "scatter3d"
           }
          ],
          "scattercarpet": [
           {
            "marker": {
             "colorbar": {
              "outlinewidth": 0,
              "ticks": ""
             }
            },
            "type": "scattercarpet"
           }
          ],
          "scattergeo": [
           {
            "marker": {
             "colorbar": {
              "outlinewidth": 0,
              "ticks": ""
             }
            },
            "type": "scattergeo"
           }
          ],
          "scattergl": [
           {
            "marker": {
             "colorbar": {
              "outlinewidth": 0,
              "ticks": ""
             }
            },
            "type": "scattergl"
           }
          ],
          "scattermapbox": [
           {
            "marker": {
             "colorbar": {
              "outlinewidth": 0,
              "ticks": ""
             }
            },
            "type": "scattermapbox"
           }
          ],
          "scatterpolar": [
           {
            "marker": {
             "colorbar": {
              "outlinewidth": 0,
              "ticks": ""
             }
            },
            "type": "scatterpolar"
           }
          ],
          "scatterpolargl": [
           {
            "marker": {
             "colorbar": {
              "outlinewidth": 0,
              "ticks": ""
             }
            },
            "type": "scatterpolargl"
           }
          ],
          "scatterternary": [
           {
            "marker": {
             "colorbar": {
              "outlinewidth": 0,
              "ticks": ""
             }
            },
            "type": "scatterternary"
           }
          ],
          "surface": [
           {
            "colorbar": {
             "outlinewidth": 0,
             "ticks": ""
            },
            "colorscale": [
             [
              0,
              "#0d0887"
             ],
             [
              0.1111111111111111,
              "#46039f"
             ],
             [
              0.2222222222222222,
              "#7201a8"
             ],
             [
              0.3333333333333333,
              "#9c179e"
             ],
             [
              0.4444444444444444,
              "#bd3786"
             ],
             [
              0.5555555555555556,
              "#d8576b"
             ],
             [
              0.6666666666666666,
              "#ed7953"
             ],
             [
              0.7777777777777778,
              "#fb9f3a"
             ],
             [
              0.8888888888888888,
              "#fdca26"
             ],
             [
              1,
              "#f0f921"
             ]
            ],
            "type": "surface"
           }
          ],
          "table": [
           {
            "cells": {
             "fill": {
              "color": "#EBF0F8"
             },
             "line": {
              "color": "white"
             }
            },
            "header": {
             "fill": {
              "color": "#C8D4E3"
             },
             "line": {
              "color": "white"
             }
            },
            "type": "table"
           }
          ]
         },
         "layout": {
          "annotationdefaults": {
           "arrowcolor": "#2a3f5f",
           "arrowhead": 0,
           "arrowwidth": 1
          },
          "coloraxis": {
           "colorbar": {
            "outlinewidth": 0,
            "ticks": ""
           }
          },
          "colorscale": {
           "diverging": [
            [
             0,
             "#8e0152"
            ],
            [
             0.1,
             "#c51b7d"
            ],
            [
             0.2,
             "#de77ae"
            ],
            [
             0.3,
             "#f1b6da"
            ],
            [
             0.4,
             "#fde0ef"
            ],
            [
             0.5,
             "#f7f7f7"
            ],
            [
             0.6,
             "#e6f5d0"
            ],
            [
             0.7,
             "#b8e186"
            ],
            [
             0.8,
             "#7fbc41"
            ],
            [
             0.9,
             "#4d9221"
            ],
            [
             1,
             "#276419"
            ]
           ],
           "sequential": [
            [
             0,
             "#0d0887"
            ],
            [
             0.1111111111111111,
             "#46039f"
            ],
            [
             0.2222222222222222,
             "#7201a8"
            ],
            [
             0.3333333333333333,
             "#9c179e"
            ],
            [
             0.4444444444444444,
             "#bd3786"
            ],
            [
             0.5555555555555556,
             "#d8576b"
            ],
            [
             0.6666666666666666,
             "#ed7953"
            ],
            [
             0.7777777777777778,
             "#fb9f3a"
            ],
            [
             0.8888888888888888,
             "#fdca26"
            ],
            [
             1,
             "#f0f921"
            ]
           ],
           "sequentialminus": [
            [
             0,
             "#0d0887"
            ],
            [
             0.1111111111111111,
             "#46039f"
            ],
            [
             0.2222222222222222,
             "#7201a8"
            ],
            [
             0.3333333333333333,
             "#9c179e"
            ],
            [
             0.4444444444444444,
             "#bd3786"
            ],
            [
             0.5555555555555556,
             "#d8576b"
            ],
            [
             0.6666666666666666,
             "#ed7953"
            ],
            [
             0.7777777777777778,
             "#fb9f3a"
            ],
            [
             0.8888888888888888,
             "#fdca26"
            ],
            [
             1,
             "#f0f921"
            ]
           ]
          },
          "colorway": [
           "#636efa",
           "#EF553B",
           "#00cc96",
           "#ab63fa",
           "#FFA15A",
           "#19d3f3",
           "#FF6692",
           "#B6E880",
           "#FF97FF",
           "#FECB52"
          ],
          "font": {
           "color": "#2a3f5f"
          },
          "geo": {
           "bgcolor": "white",
           "lakecolor": "white",
           "landcolor": "#E5ECF6",
           "showlakes": true,
           "showland": true,
           "subunitcolor": "white"
          },
          "hoverlabel": {
           "align": "left"
          },
          "hovermode": "closest",
          "mapbox": {
           "style": "light"
          },
          "paper_bgcolor": "white",
          "plot_bgcolor": "#E5ECF6",
          "polar": {
           "angularaxis": {
            "gridcolor": "white",
            "linecolor": "white",
            "ticks": ""
           },
           "bgcolor": "#E5ECF6",
           "radialaxis": {
            "gridcolor": "white",
            "linecolor": "white",
            "ticks": ""
           }
          },
          "scene": {
           "xaxis": {
            "backgroundcolor": "#E5ECF6",
            "gridcolor": "white",
            "gridwidth": 2,
            "linecolor": "white",
            "showbackground": true,
            "ticks": "",
            "zerolinecolor": "white"
           },
           "yaxis": {
            "backgroundcolor": "#E5ECF6",
            "gridcolor": "white",
            "gridwidth": 2,
            "linecolor": "white",
            "showbackground": true,
            "ticks": "",
            "zerolinecolor": "white"
           },
           "zaxis": {
            "backgroundcolor": "#E5ECF6",
            "gridcolor": "white",
            "gridwidth": 2,
            "linecolor": "white",
            "showbackground": true,
            "ticks": "",
            "zerolinecolor": "white"
           }
          },
          "shapedefaults": {
           "line": {
            "color": "#2a3f5f"
           }
          },
          "ternary": {
           "aaxis": {
            "gridcolor": "white",
            "linecolor": "white",
            "ticks": ""
           },
           "baxis": {
            "gridcolor": "white",
            "linecolor": "white",
            "ticks": ""
           },
           "bgcolor": "#E5ECF6",
           "caxis": {
            "gridcolor": "white",
            "linecolor": "white",
            "ticks": ""
           }
          },
          "title": {
           "x": 0.05
          },
          "xaxis": {
           "automargin": true,
           "gridcolor": "white",
           "linecolor": "white",
           "ticks": "",
           "title": {
            "standoff": 15
           },
           "zerolinecolor": "white",
           "zerolinewidth": 2
          },
          "yaxis": {
           "automargin": true,
           "gridcolor": "white",
           "linecolor": "white",
           "ticks": "",
           "title": {
            "standoff": 15
           },
           "zerolinecolor": "white",
           "zerolinewidth": 2
          }
         }
        },
        "xaxis": {
         "anchor": "y",
         "domain": [
          0,
          1
         ],
         "title": {
          "text": "value"
         }
        },
        "yaxis": {
         "anchor": "x",
         "domain": [
          0,
          1
         ],
         "title": {
          "text": "count"
         }
        }
       }
      }
     },
     "metadata": {},
     "output_type": "display_data"
    }
   ],
   "source": [
    "df['item_price'].plot(kind=\"hist\", bins=20)"
   ]
  },
  {
   "cell_type": "code",
   "execution_count": 24,
   "metadata": {},
   "outputs": [
    {
     "data": {
      "text/html": [
       "<div>\n",
       "<style scoped>\n",
       "    .dataframe tbody tr th:only-of-type {\n",
       "        vertical-align: middle;\n",
       "    }\n",
       "\n",
       "    .dataframe tbody tr th {\n",
       "        vertical-align: top;\n",
       "    }\n",
       "\n",
       "    .dataframe thead th {\n",
       "        text-align: right;\n",
       "    }\n",
       "</style>\n",
       "<table border=\"1\" class=\"dataframe\">\n",
       "  <thead>\n",
       "    <tr style=\"text-align: right;\">\n",
       "      <th></th>\n",
       "      <th>item_qty</th>\n",
       "      <th>item_price</th>\n",
       "      <th>item_name</th>\n",
       "      <th>item_id</th>\n",
       "      <th>item_category</th>\n",
       "      <th>trx_id</th>\n",
       "      <th>trx_date</th>\n",
       "      <th>trx_total_price</th>\n",
       "      <th>trx_discount</th>\n",
       "    </tr>\n",
       "  </thead>\n",
       "  <tbody>\n",
       "    <tr>\n",
       "      <th>5</th>\n",
       "      <td>1</td>\n",
       "      <td>179.90</td>\n",
       "      <td>DH 160/200 COTON BIO 57 FILS MASTIC MARJANE104870</td>\n",
       "      <td>986583</td>\n",
       "      <td>LINGE DE MAISON</td>\n",
       "      <td>9992206050015164648000802200676057</td>\n",
       "      <td>2022-06-05 19:46:48</td>\n",
       "      <td>1170.05</td>\n",
       "      <td>0.0</td>\n",
       "    </tr>\n",
       "    <tr>\n",
       "      <th>6</th>\n",
       "      <td>1</td>\n",
       "      <td>199.00</td>\n",
       "      <td>DP240/30057FILSTODAYMASTIC201612COTON</td>\n",
       "      <td>986583</td>\n",
       "      <td>LINGE DE MAISON</td>\n",
       "      <td>9992206050015164648000802200676057</td>\n",
       "      <td>2022-06-05 19:46:48</td>\n",
       "      <td>1170.05</td>\n",
       "      <td>0.0</td>\n",
       "    </tr>\n",
       "    <tr>\n",
       "      <th>15</th>\n",
       "      <td>1</td>\n",
       "      <td>399.00</td>\n",
       "      <td>TABLE A REPASSER ARES 136x92x43 REF 18367</td>\n",
       "      <td>350193</td>\n",
       "      <td>ART MENAG/RANG</td>\n",
       "      <td>9992206050015164648000802200676057</td>\n",
       "      <td>2022-06-05 19:46:48</td>\n",
       "      <td>1170.05</td>\n",
       "      <td>0.0</td>\n",
       "    </tr>\n",
       "    <tr>\n",
       "      <th>32</th>\n",
       "      <td>1</td>\n",
       "      <td>128.60</td>\n",
       "      <td>GLADE AUTO HOLD PEONY 269ML</td>\n",
       "      <td>350072</td>\n",
       "      <td>DROGUERIE</td>\n",
       "      <td>9992205220157125845000300150451014</td>\n",
       "      <td>2022-05-22 15:58:45</td>\n",
       "      <td>817.14</td>\n",
       "      <td>0.0</td>\n",
       "    </tr>\n",
       "    <tr>\n",
       "      <th>0</th>\n",
       "      <td>1</td>\n",
       "      <td>149.00</td>\n",
       "      <td>SUPPORT TV FIXE 37\" - 70\"  DTB-121EA MGS</td>\n",
       "      <td>4737980</td>\n",
       "      <td>ACCESSOIRES IMAGE ET SON</td>\n",
       "      <td>9992204150015195535000200210360092</td>\n",
       "      <td>2022-04-15 22:55:35</td>\n",
       "      <td>149.00</td>\n",
       "      <td>0.0</td>\n",
       "    </tr>\n",
       "    <tr>\n",
       "      <th>0</th>\n",
       "      <td>1</td>\n",
       "      <td>699.00</td>\n",
       "      <td>MIXEUR PLONGEANT DD655 1000W 3 ACCES MOULINEX</td>\n",
       "      <td>350217</td>\n",
       "      <td>PETIT ELECTRO</td>\n",
       "      <td>9992204040026210309002401490012834</td>\n",
       "      <td>2022-04-04 00:06:41</td>\n",
       "      <td>1147.00</td>\n",
       "      <td>0.0</td>\n",
       "    </tr>\n",
       "    <tr>\n",
       "      <th>1</th>\n",
       "      <td>1</td>\n",
       "      <td>249.00</td>\n",
       "      <td>PRESSE AGRUMES  CP 3535 40 W 1 L SEVERIN</td>\n",
       "      <td>350217</td>\n",
       "      <td>PETIT ELECTRO</td>\n",
       "      <td>9992204040026210309002401490012834</td>\n",
       "      <td>2022-04-04 00:06:41</td>\n",
       "      <td>1147.00</td>\n",
       "      <td>0.0</td>\n",
       "    </tr>\n",
       "    <tr>\n",
       "      <th>2</th>\n",
       "      <td>1</td>\n",
       "      <td>199.00</td>\n",
       "      <td>MOULIN A CAFE MKM6003/TSM6A013B BOSCH</td>\n",
       "      <td>350217</td>\n",
       "      <td>PETIT ELECTRO</td>\n",
       "      <td>9992204040026210309002401490012834</td>\n",
       "      <td>2022-04-04 00:06:41</td>\n",
       "      <td>1147.00</td>\n",
       "      <td>0.0</td>\n",
       "    </tr>\n",
       "    <tr>\n",
       "      <th>5</th>\n",
       "      <td>1</td>\n",
       "      <td>119.95</td>\n",
       "      <td>FINISH ALL IN ONE MAX REGULAR X68 NIP38</td>\n",
       "      <td>350071</td>\n",
       "      <td>ENTRETIEN</td>\n",
       "      <td>9992204030157135543000200210379457</td>\n",
       "      <td>2022-04-03 16:55:43</td>\n",
       "      <td>382.52</td>\n",
       "      <td>0.0</td>\n",
       "    </tr>\n",
       "    <tr>\n",
       "      <th>0</th>\n",
       "      <td>1</td>\n",
       "      <td>139.00</td>\n",
       "      <td>ECOUTEUR DYNAMIQUE FIL MDR-EX15APBZE NOIR SONY</td>\n",
       "      <td>4737977</td>\n",
       "      <td>AUDIO HI FI</td>\n",
       "      <td>9992202090015150713000200500134583</td>\n",
       "      <td>2022-02-09 18:07:18</td>\n",
       "      <td>139.00</td>\n",
       "      <td>0.0</td>\n",
       "    </tr>\n",
       "  </tbody>\n",
       "</table>\n",
       "</div>"
      ],
      "text/plain": [
       "    item_qty  item_price                                          item_name  \\\n",
       "5          1      179.90  DH 160/200 COTON BIO 57 FILS MASTIC MARJANE104870   \n",
       "6          1      199.00              DP240/30057FILSTODAYMASTIC201612COTON   \n",
       "15         1      399.00          TABLE A REPASSER ARES 136x92x43 REF 18367   \n",
       "32         1      128.60                        GLADE AUTO HOLD PEONY 269ML   \n",
       "0          1      149.00           SUPPORT TV FIXE 37\" - 70\"  DTB-121EA MGS   \n",
       "0          1      699.00      MIXEUR PLONGEANT DD655 1000W 3 ACCES MOULINEX   \n",
       "1          1      249.00           PRESSE AGRUMES  CP 3535 40 W 1 L SEVERIN   \n",
       "2          1      199.00              MOULIN A CAFE MKM6003/TSM6A013B BOSCH   \n",
       "5          1      119.95            FINISH ALL IN ONE MAX REGULAR X68 NIP38   \n",
       "0          1      139.00     ECOUTEUR DYNAMIQUE FIL MDR-EX15APBZE NOIR SONY   \n",
       "\n",
       "    item_id             item_category                              trx_id  \\\n",
       "5    986583           LINGE DE MAISON  9992206050015164648000802200676057   \n",
       "6    986583           LINGE DE MAISON  9992206050015164648000802200676057   \n",
       "15   350193            ART MENAG/RANG  9992206050015164648000802200676057   \n",
       "32   350072                 DROGUERIE  9992205220157125845000300150451014   \n",
       "0   4737980  ACCESSOIRES IMAGE ET SON  9992204150015195535000200210360092   \n",
       "0    350217             PETIT ELECTRO  9992204040026210309002401490012834   \n",
       "1    350217             PETIT ELECTRO  9992204040026210309002401490012834   \n",
       "2    350217             PETIT ELECTRO  9992204040026210309002401490012834   \n",
       "5    350071                 ENTRETIEN  9992204030157135543000200210379457   \n",
       "0   4737977               AUDIO HI FI  9992202090015150713000200500134583   \n",
       "\n",
       "              trx_date  trx_total_price  trx_discount  \n",
       "5  2022-06-05 19:46:48          1170.05           0.0  \n",
       "6  2022-06-05 19:46:48          1170.05           0.0  \n",
       "15 2022-06-05 19:46:48          1170.05           0.0  \n",
       "32 2022-05-22 15:58:45           817.14           0.0  \n",
       "0  2022-04-15 22:55:35           149.00           0.0  \n",
       "0  2022-04-04 00:06:41          1147.00           0.0  \n",
       "1  2022-04-04 00:06:41          1147.00           0.0  \n",
       "2  2022-04-04 00:06:41          1147.00           0.0  \n",
       "5  2022-04-03 16:55:43           382.52           0.0  \n",
       "0  2022-02-09 18:07:18           139.00           0.0  "
      ]
     },
     "execution_count": 24,
     "metadata": {},
     "output_type": "execute_result"
    }
   ],
   "source": [
    "## look at expensive items\n",
    "\n",
    "df.loc[df.item_price >= 100].head(10)"
   ]
  },
  {
   "cell_type": "code",
   "execution_count": 36,
   "metadata": {},
   "outputs": [
    {
     "data": {
      "text/html": [
       "<div>\n",
       "<style scoped>\n",
       "    .dataframe tbody tr th:only-of-type {\n",
       "        vertical-align: middle;\n",
       "    }\n",
       "\n",
       "    .dataframe tbody tr th {\n",
       "        vertical-align: top;\n",
       "    }\n",
       "\n",
       "    .dataframe thead th {\n",
       "        text-align: right;\n",
       "    }\n",
       "</style>\n",
       "<table border=\"1\" class=\"dataframe\">\n",
       "  <thead>\n",
       "    <tr style=\"text-align: right;\">\n",
       "      <th></th>\n",
       "      <th>item_category</th>\n",
       "      <th>category_spend</th>\n",
       "    </tr>\n",
       "  </thead>\n",
       "  <tbody>\n",
       "    <tr>\n",
       "      <th>47</th>\n",
       "      <td>PETIT ELECTRO</td>\n",
       "      <td>1147.00</td>\n",
       "    </tr>\n",
       "    <tr>\n",
       "      <th>23</th>\n",
       "      <td>ENTRETIEN</td>\n",
       "      <td>757.90</td>\n",
       "    </tr>\n",
       "    <tr>\n",
       "      <th>31</th>\n",
       "      <td>HYGIENE</td>\n",
       "      <td>695.25</td>\n",
       "    </tr>\n",
       "    <tr>\n",
       "      <th>12</th>\n",
       "      <td>BOISSONS CHAUDES</td>\n",
       "      <td>595.90</td>\n",
       "    </tr>\n",
       "    <tr>\n",
       "      <th>4</th>\n",
       "      <td>ART MENAG/RANG</td>\n",
       "      <td>493.60</td>\n",
       "    </tr>\n",
       "    <tr>\n",
       "      <th>16</th>\n",
       "      <td>CAPILLAIRE</td>\n",
       "      <td>433.00</td>\n",
       "    </tr>\n",
       "    <tr>\n",
       "      <th>19</th>\n",
       "      <td>CONSERVES &amp; PLATS CUISINES</td>\n",
       "      <td>411.60</td>\n",
       "    </tr>\n",
       "    <tr>\n",
       "      <th>40</th>\n",
       "      <td>LINGE DE MAISON</td>\n",
       "      <td>378.90</td>\n",
       "    </tr>\n",
       "    <tr>\n",
       "      <th>21</th>\n",
       "      <td>DROGUERIE</td>\n",
       "      <td>336.45</td>\n",
       "    </tr>\n",
       "    <tr>\n",
       "      <th>50</th>\n",
       "      <td>POULET L.S</td>\n",
       "      <td>328.00</td>\n",
       "    </tr>\n",
       "    <tr>\n",
       "      <th>54</th>\n",
       "      <td>STAND CHARCUTER</td>\n",
       "      <td>327.81</td>\n",
       "    </tr>\n",
       "    <tr>\n",
       "      <th>18</th>\n",
       "      <td>CONFISERIE</td>\n",
       "      <td>287.25</td>\n",
       "    </tr>\n",
       "    <tr>\n",
       "      <th>9</th>\n",
       "      <td>BEAUTE</td>\n",
       "      <td>286.35</td>\n",
       "    </tr>\n",
       "    <tr>\n",
       "      <th>55</th>\n",
       "      <td>STAND CREMERIE</td>\n",
       "      <td>235.33</td>\n",
       "    </tr>\n",
       "    <tr>\n",
       "      <th>29</th>\n",
       "      <td>GRAINES, CHIPS&amp;BISCUITS APERITIFS</td>\n",
       "      <td>235.05</td>\n",
       "    </tr>\n",
       "    <tr>\n",
       "      <th>48</th>\n",
       "      <td>PETIT-DEJEUNER</td>\n",
       "      <td>230.45</td>\n",
       "    </tr>\n",
       "    <tr>\n",
       "      <th>58</th>\n",
       "      <td>VIANDES &amp; POISSONS</td>\n",
       "      <td>223.90</td>\n",
       "    </tr>\n",
       "    <tr>\n",
       "      <th>60</th>\n",
       "      <td>YAOURT&amp;DESSERT</td>\n",
       "      <td>209.55</td>\n",
       "    </tr>\n",
       "    <tr>\n",
       "      <th>36</th>\n",
       "      <td>LEGUM&amp;ACCOMPAG</td>\n",
       "      <td>209.45</td>\n",
       "    </tr>\n",
       "    <tr>\n",
       "      <th>25</th>\n",
       "      <td>FROMAGE</td>\n",
       "      <td>199.30</td>\n",
       "    </tr>\n",
       "  </tbody>\n",
       "</table>\n",
       "</div>"
      ],
      "text/plain": [
       "                        item_category  category_spend\n",
       "47                      PETIT ELECTRO         1147.00\n",
       "23                          ENTRETIEN          757.90\n",
       "31                            HYGIENE          695.25\n",
       "12                   BOISSONS CHAUDES          595.90\n",
       "4                      ART MENAG/RANG          493.60\n",
       "16                         CAPILLAIRE          433.00\n",
       "19         CONSERVES & PLATS CUISINES          411.60\n",
       "40                    LINGE DE MAISON          378.90\n",
       "21                          DROGUERIE          336.45\n",
       "50                         POULET L.S          328.00\n",
       "54                    STAND CHARCUTER          327.81\n",
       "18                         CONFISERIE          287.25\n",
       "9                              BEAUTE          286.35\n",
       "55                     STAND CREMERIE          235.33\n",
       "29  GRAINES, CHIPS&BISCUITS APERITIFS          235.05\n",
       "48                     PETIT-DEJEUNER          230.45\n",
       "58                 VIANDES & POISSONS          223.90\n",
       "60                     YAOURT&DESSERT          209.55\n",
       "36                     LEGUM&ACCOMPAG          209.45\n",
       "25                            FROMAGE          199.30"
      ]
     },
     "execution_count": 36,
     "metadata": {},
     "output_type": "execute_result"
    }
   ],
   "source": [
    "spend_by_category = df.groupby('item_category').agg({'item_price':[sum]}).reset_index()\n",
    "spend_by_category.columns = ['item_category', 'category_spend']\n",
    "spend_by_category.sort_values(by='category_spend', ascending=False, inplace=True)\n",
    "spend_by_category.head(20)"
   ]
  },
  {
   "cell_type": "code",
   "execution_count": 37,
   "metadata": {},
   "outputs": [
    {
     "data": {
      "text/html": [
       "<div>\n",
       "<style scoped>\n",
       "    .dataframe tbody tr th:only-of-type {\n",
       "        vertical-align: middle;\n",
       "    }\n",
       "\n",
       "    .dataframe tbody tr th {\n",
       "        vertical-align: top;\n",
       "    }\n",
       "\n",
       "    .dataframe thead th {\n",
       "        text-align: right;\n",
       "    }\n",
       "</style>\n",
       "<table border=\"1\" class=\"dataframe\">\n",
       "  <thead>\n",
       "    <tr style=\"text-align: right;\">\n",
       "      <th></th>\n",
       "      <th>item_category</th>\n",
       "      <th>category_spend</th>\n",
       "      <th>category_pct_total</th>\n",
       "    </tr>\n",
       "  </thead>\n",
       "  <tbody>\n",
       "    <tr>\n",
       "      <th>47</th>\n",
       "      <td>PETIT ELECTRO</td>\n",
       "      <td>1147.00</td>\n",
       "      <td>0.103448</td>\n",
       "    </tr>\n",
       "    <tr>\n",
       "      <th>23</th>\n",
       "      <td>ENTRETIEN</td>\n",
       "      <td>757.90</td>\n",
       "      <td>0.068355</td>\n",
       "    </tr>\n",
       "    <tr>\n",
       "      <th>31</th>\n",
       "      <td>HYGIENE</td>\n",
       "      <td>695.25</td>\n",
       "      <td>0.062705</td>\n",
       "    </tr>\n",
       "    <tr>\n",
       "      <th>12</th>\n",
       "      <td>BOISSONS CHAUDES</td>\n",
       "      <td>595.90</td>\n",
       "      <td>0.053744</td>\n",
       "    </tr>\n",
       "    <tr>\n",
       "      <th>4</th>\n",
       "      <td>ART MENAG/RANG</td>\n",
       "      <td>493.60</td>\n",
       "      <td>0.044518</td>\n",
       "    </tr>\n",
       "    <tr>\n",
       "      <th>16</th>\n",
       "      <td>CAPILLAIRE</td>\n",
       "      <td>433.00</td>\n",
       "      <td>0.039052</td>\n",
       "    </tr>\n",
       "    <tr>\n",
       "      <th>19</th>\n",
       "      <td>CONSERVES &amp; PLATS CUISINES</td>\n",
       "      <td>411.60</td>\n",
       "      <td>0.037122</td>\n",
       "    </tr>\n",
       "    <tr>\n",
       "      <th>40</th>\n",
       "      <td>LINGE DE MAISON</td>\n",
       "      <td>378.90</td>\n",
       "      <td>0.034173</td>\n",
       "    </tr>\n",
       "    <tr>\n",
       "      <th>21</th>\n",
       "      <td>DROGUERIE</td>\n",
       "      <td>336.45</td>\n",
       "      <td>0.030344</td>\n",
       "    </tr>\n",
       "    <tr>\n",
       "      <th>50</th>\n",
       "      <td>POULET L.S</td>\n",
       "      <td>328.00</td>\n",
       "      <td>0.029582</td>\n",
       "    </tr>\n",
       "  </tbody>\n",
       "</table>\n",
       "</div>"
      ],
      "text/plain": [
       "                 item_category  category_spend  category_pct_total\n",
       "47               PETIT ELECTRO         1147.00            0.103448\n",
       "23                   ENTRETIEN          757.90            0.068355\n",
       "31                     HYGIENE          695.25            0.062705\n",
       "12            BOISSONS CHAUDES          595.90            0.053744\n",
       "4               ART MENAG/RANG          493.60            0.044518\n",
       "16                  CAPILLAIRE          433.00            0.039052\n",
       "19  CONSERVES & PLATS CUISINES          411.60            0.037122\n",
       "40             LINGE DE MAISON          378.90            0.034173\n",
       "21                   DROGUERIE          336.45            0.030344\n",
       "50                  POULET L.S          328.00            0.029582"
      ]
     },
     "execution_count": 37,
     "metadata": {},
     "output_type": "execute_result"
    }
   ],
   "source": [
    "spend_by_category['category_pct_total'] = spend_by_category['category_spend'] / spend_by_category['category_spend'].sum()\n",
    "spend_by_category.head(10)"
   ]
  },
  {
   "cell_type": "code",
   "execution_count": 39,
   "metadata": {},
   "outputs": [
    {
     "name": "stdout",
     "output_type": "stream",
     "text": [
      "11087.720000000001\n",
      "247717.55999999997\n"
     ]
    }
   ],
   "source": [
    "print(spend_by_category['category_spend'].sum())\n",
    "\n",
    "## get unique trx, sum total price (sur 35 rows)\n",
    "\n",
    "print(df['trx_total_price'].sum())\n"
   ]
  },
  {
   "cell_type": "code",
   "execution_count": null,
   "metadata": {},
   "outputs": [],
   "source": [
    "## boxplot price / categorie"
   ]
  }
 ],
 "metadata": {
  "kernelspec": {
   "display_name": "Python 3.7.4 64-bit",
   "language": "python",
   "name": "python3"
  },
  "language_info": {
   "codemirror_mode": {
    "name": "ipython",
    "version": 3
   },
   "file_extension": ".py",
   "mimetype": "text/x-python",
   "name": "python",
   "nbconvert_exporter": "python",
   "pygments_lexer": "ipython3",
   "version": "3.7.4"
  },
  "orig_nbformat": 4,
  "vscode": {
   "interpreter": {
    "hash": "e7c7af295c0d7e2e968539b2312e20f7956f6f74c12abf3b1e71ad2fa2d81008"
   }
  }
 },
 "nbformat": 4,
 "nbformat_minor": 2
}
