{
 "cells": [
  {
   "cell_type": "code",
   "execution_count": 3,
   "metadata": {},
   "outputs": [],
   "source": [
    "import pandas as pd\n",
    "import numpy as np\n",
    "import datetime"
   ]
  },
  {
   "cell_type": "code",
   "execution_count": 67,
   "metadata": {},
   "outputs": [],
   "source": [
    "class analyse_marjane:\n",
    "\n",
    "    def __init__(self, customer_id, extraction_date):\n",
    "        self.welcome_msg = \"init marjane analyse\"\n",
    "        self.customer_id = customer_id\n",
    "        self.extraction_date = extraction_date\n",
    "    \n",
    "    def load_trx_log(self, file_name):\n",
    "        df = pd.read_parquet(f\"{file_name}\")\n",
    "        ## convert data types\n",
    "        df['item_qty'] = pd.to_numeric(df['item_qty'])\n",
    "        df['item_price'] = pd.to_numeric(df['item_price'])\n",
    "        df['trx_total_price'] = pd.to_numeric(df['trx_total_price'])\n",
    "        df['trx_discount'] = pd.to_numeric(df['trx_discount'])\n",
    "        df['trx_date'] = pd.to_datetime(df['trx_date'])\n",
    "        file_nb_records = len(df)\n",
    "        print(f\"trx log file {file_name} \\nloaded with : # {file_nb_records} records ...\")\n",
    "        ## update class status\n",
    "        self.trx_log = df\n",
    "        self.is_data_loaded = True\n",
    "        return df\n",
    "    \n",
    "    def set_trx_log(self, trx_log):\n",
    "        self.trx_log = trx_log\n",
    "        self.is_data_loaded = True\n",
    "\n",
    "    def getSpendByCategory(self, topk):\n",
    "        spend_by_category = self.trx_log.groupby('item_category').agg({'item_price':[sum]}).reset_index()\n",
    "        spend_by_category.columns = ['item_category', 'category_spend']\n",
    "        spend_by_category.sort_values(by='category_spend', ascending=False, inplace=True)\n",
    "        spend_by_category_reduced = spend_by_category[:topk]\n",
    "        return spend_by_category_reduced\n",
    "\n",
    "    \n",
    "    def getDayOfWeekSplit(self):\n",
    "        ## append DoW : 0 monday, 6 sunday\n",
    "        tmp_df = self.trx_log.copy()\n",
    "        return len(tmp_df)\n",
    "        ##tmp_df['trx_dow'] = tmp_df.dt.dayofweek\n",
    "        ##tmp_df.drop_duplicates(subset=['trx_id'])['trx_dow'].value_counts(normalize=False, ascending=False)\n",
    "        ##dow_pct = tmp_df.drop_duplicates(subset=['trx_id'])['trx_dow'].value_counts(normalize=True, ascending=False).to_frame().reset_index()\n",
    "        ##dow_pct.columns = ['trx_dow', 'cnt_trx']\n",
    "        ##return doc_pct\n",
    "\n",
    "        "
   ]
  },
  {
   "cell_type": "code",
   "execution_count": 37,
   "metadata": {},
   "outputs": [
    {
     "name": "stdout",
     "output_type": "stream",
     "text": [
      "trx log file df_orders_MM_07_24_2022.parquet \n",
      "loaded with : # 536 records ...\n"
     ]
    }
   ],
   "source": [
    "## instantiate objects\n",
    "\n",
    "analyse_mm = analyse_marjane(customer_id=\"130577\", extraction_date=\"2022_07_22\")\n",
    "df_mm = analyse_mm.load_trx_log(file_name = \"df_orders_MM_07_24_2022.parquet\")"
   ]
  },
  {
   "cell_type": "code",
   "execution_count": 41,
   "metadata": {},
   "outputs": [
    {
     "name": "stdout",
     "output_type": "stream",
     "text": [
      "130577\n"
     ]
    }
   ],
   "source": [
    "print(analyse_mm.customer_id)"
   ]
  },
  {
   "cell_type": "code",
   "execution_count": 55,
   "metadata": {},
   "outputs": [],
   "source": [
    "spend_categ = analyse_mm.getSpendByCategory(20)"
   ]
  },
  {
   "cell_type": "code",
   "execution_count": 45,
   "metadata": {},
   "outputs": [
    {
     "data": {
      "text/html": [
       "<div>\n",
       "<style scoped>\n",
       "    .dataframe tbody tr th:only-of-type {\n",
       "        vertical-align: middle;\n",
       "    }\n",
       "\n",
       "    .dataframe tbody tr th {\n",
       "        vertical-align: top;\n",
       "    }\n",
       "\n",
       "    .dataframe thead th {\n",
       "        text-align: right;\n",
       "    }\n",
       "</style>\n",
       "<table border=\"1\" class=\"dataframe\">\n",
       "  <thead>\n",
       "    <tr style=\"text-align: right;\">\n",
       "      <th></th>\n",
       "      <th>item_category</th>\n",
       "      <th>category_spend</th>\n",
       "    </tr>\n",
       "  </thead>\n",
       "  <tbody>\n",
       "    <tr>\n",
       "      <th>47</th>\n",
       "      <td>PETIT ELECTRO</td>\n",
       "      <td>1147.00</td>\n",
       "    </tr>\n",
       "    <tr>\n",
       "      <th>23</th>\n",
       "      <td>ENTRETIEN</td>\n",
       "      <td>757.90</td>\n",
       "    </tr>\n",
       "    <tr>\n",
       "      <th>31</th>\n",
       "      <td>HYGIENE</td>\n",
       "      <td>695.25</td>\n",
       "    </tr>\n",
       "    <tr>\n",
       "      <th>12</th>\n",
       "      <td>BOISSONS CHAUDES</td>\n",
       "      <td>595.90</td>\n",
       "    </tr>\n",
       "    <tr>\n",
       "      <th>4</th>\n",
       "      <td>ART MENAG/RANG</td>\n",
       "      <td>493.60</td>\n",
       "    </tr>\n",
       "    <tr>\n",
       "      <th>16</th>\n",
       "      <td>CAPILLAIRE</td>\n",
       "      <td>433.00</td>\n",
       "    </tr>\n",
       "    <tr>\n",
       "      <th>19</th>\n",
       "      <td>CONSERVES &amp; PLATS CUISINES</td>\n",
       "      <td>411.60</td>\n",
       "    </tr>\n",
       "    <tr>\n",
       "      <th>40</th>\n",
       "      <td>LINGE DE MAISON</td>\n",
       "      <td>378.90</td>\n",
       "    </tr>\n",
       "    <tr>\n",
       "      <th>21</th>\n",
       "      <td>DROGUERIE</td>\n",
       "      <td>336.45</td>\n",
       "    </tr>\n",
       "    <tr>\n",
       "      <th>50</th>\n",
       "      <td>POULET L.S</td>\n",
       "      <td>328.00</td>\n",
       "    </tr>\n",
       "  </tbody>\n",
       "</table>\n",
       "</div>"
      ],
      "text/plain": [
       "                 item_category  category_spend\n",
       "47               PETIT ELECTRO         1147.00\n",
       "23                   ENTRETIEN          757.90\n",
       "31                     HYGIENE          695.25\n",
       "12            BOISSONS CHAUDES          595.90\n",
       "4               ART MENAG/RANG          493.60\n",
       "16                  CAPILLAIRE          433.00\n",
       "19  CONSERVES & PLATS CUISINES          411.60\n",
       "40             LINGE DE MAISON          378.90\n",
       "21                   DROGUERIE          336.45\n",
       "50                  POULET L.S          328.00"
      ]
     },
     "execution_count": 45,
     "metadata": {},
     "output_type": "execute_result"
    }
   ],
   "source": [
    "spend_categ.head(10)"
   ]
  },
  {
   "cell_type": "code",
   "execution_count": 68,
   "metadata": {},
   "outputs": [
    {
     "ename": "AttributeError",
     "evalue": "'analyse_marjane' object has no attribute 'getDayOfWeekSplit'",
     "output_type": "error",
     "traceback": [
      "\u001b[1;31m---------------------------------------------------------------------------\u001b[0m",
      "\u001b[1;31mAttributeError\u001b[0m                            Traceback (most recent call last)",
      "\u001b[1;32m~\\AppData\\Local\\Temp\\ipykernel_3384\\3037581174.py\u001b[0m in \u001b[0;36m<module>\u001b[1;34m\u001b[0m\n\u001b[1;32m----> 1\u001b[1;33m \u001b[0mdow_distrib\u001b[0m \u001b[1;33m=\u001b[0m \u001b[0manalyse_mm\u001b[0m\u001b[1;33m.\u001b[0m\u001b[0mgetDayOfWeekSplit\u001b[0m\u001b[1;33m(\u001b[0m\u001b[1;33m)\u001b[0m\u001b[1;33m\u001b[0m\u001b[1;33m\u001b[0m\u001b[0m\n\u001b[0m",
      "\u001b[1;31mAttributeError\u001b[0m: 'analyse_marjane' object has no attribute 'getDayOfWeekSplit'"
     ]
    }
   ],
   "source": [
    "dow_distrib = analyse_mm.getDayOfWeekSplit()"
   ]
  }
 ],
 "metadata": {
  "kernelspec": {
   "display_name": "Python 3.7.8 64-bit (system)",
   "language": "python",
   "name": "python3"
  },
  "language_info": {
   "codemirror_mode": {
    "name": "ipython",
    "version": 3
   },
   "file_extension": ".py",
   "mimetype": "text/x-python",
   "name": "python",
   "nbconvert_exporter": "python",
   "pygments_lexer": "ipython3",
   "version": "3.7.8"
  },
  "orig_nbformat": 4,
  "vscode": {
   "interpreter": {
    "hash": "771ed343664c905c0a94df97cf6bc638c90cd8b85f38c1ff514a0f82301c60f1"
   }
  }
 },
 "nbformat": 4,
 "nbformat_minor": 2
}
